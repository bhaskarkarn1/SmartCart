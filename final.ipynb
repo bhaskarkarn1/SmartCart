{
 "cells": [
  {
   "cell_type": "code",
   "execution_count": 235,
   "id": "89fa6029",
   "metadata": {},
   "outputs": [],
   "source": [
    "# Imports and Setup\n",
    "from collections import Counter\n",
    "import json\n"
   ]
  },
  {
   "cell_type": "code",
   "execution_count": 236,
   "id": "39503a72",
   "metadata": {},
   "outputs": [],
   "source": [
    "# Visualization Libraries\n",
    "import matplotlib.pyplot as plt\n",
    "import seaborn as sns"
   ]
  },
  {
   "cell_type": "code",
   "execution_count": 237,
   "id": "6db03389",
   "metadata": {},
   "outputs": [],
   "source": [
    "# Data Handling\n",
    "import pandas as pd\n",
    "import numpy as np"
   ]
  },
  {
   "cell_type": "code",
   "execution_count": 238,
   "id": "f45b056f",
   "metadata": {},
   "outputs": [],
   "source": [
    "# Load the dataset\n",
    "order_df = pd.read_csv('data/order_data.csv')\n",
    "customer_df = pd.read_csv('data/customer_data.csv')\n",
    "store_df = pd.read_csv('data/store_data.csv')\n",
    "test_df = pd.read_csv('data/test_data_question.csv')"
   ]
  },
  {
   "cell_type": "code",
   "execution_count": 239,
   "id": "d7903a43",
   "metadata": {},
   "outputs": [
    {
     "name": "stdout",
     "output_type": "stream",
     "text": [
      "Order Data: (1414410, 8)\n",
      "Customer Data: (563346, 2)\n",
      "Store Data: (38, 4)\n",
      "Test Data: (1000, 10)\n"
     ]
    }
   ],
   "source": [
    "#Quickly checking the shape to verify loads\n",
    "print(\"Order Data:\", order_df.shape)\n",
    "print(\"Customer Data:\", customer_df.shape)\n",
    "print(\"Store Data:\", store_df.shape)\n",
    "print(\"Test Data:\", test_df.shape)"
   ]
  },
  {
   "cell_type": "code",
   "execution_count": 240,
   "id": "352f1847",
   "metadata": {},
   "outputs": [
    {
     "name": "stdout",
     "output_type": "stream",
     "text": [
      "\n",
      " Order Data → Shape: (1414410, 8)\n"
     ]
    },
    {
     "data": {
      "text/html": [
       "<div>\n",
       "<style scoped>\n",
       "    .dataframe tbody tr th:only-of-type {\n",
       "        vertical-align: middle;\n",
       "    }\n",
       "\n",
       "    .dataframe tbody tr th {\n",
       "        vertical-align: top;\n",
       "    }\n",
       "\n",
       "    .dataframe thead th {\n",
       "        text-align: right;\n",
       "    }\n",
       "</style>\n",
       "<table border=\"1\" class=\"dataframe\">\n",
       "  <thead>\n",
       "    <tr style=\"text-align: right;\">\n",
       "      <th></th>\n",
       "      <th>CUSTOMER_ID</th>\n",
       "      <th>STORE_NUMBER</th>\n",
       "      <th>ORDER_CREATED_DATE</th>\n",
       "      <th>ORDER_ID</th>\n",
       "      <th>ORDERS</th>\n",
       "      <th>ORDER_CHANNEL_NAME</th>\n",
       "      <th>ORDER_SUBCHANNEL_NAME</th>\n",
       "      <th>ORDER_OCCASION_NAME</th>\n",
       "    </tr>\n",
       "  </thead>\n",
       "  <tbody>\n",
       "    <tr>\n",
       "      <th>0</th>\n",
       "      <td>362204699</td>\n",
       "      <td>2156</td>\n",
       "      <td>2024-07-24</td>\n",
       "      <td>7247194287</td>\n",
       "      <td>{\"orders\": [{\"item_details\": [{\"item_name\": \"O...</td>\n",
       "      <td>Digital</td>\n",
       "      <td>WWT</td>\n",
       "      <td>ToGo</td>\n",
       "    </tr>\n",
       "    <tr>\n",
       "      <th>1</th>\n",
       "      <td>269612955</td>\n",
       "      <td>1419</td>\n",
       "      <td>2025-02-15</td>\n",
       "      <td>791214421</td>\n",
       "      <td>{\"orders\": [{\"item_details\": [{\"item_name\": \"R...</td>\n",
       "      <td>Digital</td>\n",
       "      <td>WWT</td>\n",
       "      <td>ToGo</td>\n",
       "    </tr>\n",
       "    <tr>\n",
       "      <th>2</th>\n",
       "      <td>585330633</td>\n",
       "      <td>2249</td>\n",
       "      <td>2025-02-15</td>\n",
       "      <td>7575285208</td>\n",
       "      <td>{\"orders\": [{\"item_details\": [{\"item_name\": \"2...</td>\n",
       "      <td>Digital</td>\n",
       "      <td>WWT</td>\n",
       "      <td>ToGo</td>\n",
       "    </tr>\n",
       "  </tbody>\n",
       "</table>\n",
       "</div>"
      ],
      "text/plain": [
       "   CUSTOMER_ID  STORE_NUMBER ORDER_CREATED_DATE    ORDER_ID  \\\n",
       "0    362204699          2156         2024-07-24  7247194287   \n",
       "1    269612955          1419         2025-02-15   791214421   \n",
       "2    585330633          2249         2025-02-15  7575285208   \n",
       "\n",
       "                                              ORDERS ORDER_CHANNEL_NAME  \\\n",
       "0  {\"orders\": [{\"item_details\": [{\"item_name\": \"O...            Digital   \n",
       "1  {\"orders\": [{\"item_details\": [{\"item_name\": \"R...            Digital   \n",
       "2  {\"orders\": [{\"item_details\": [{\"item_name\": \"2...            Digital   \n",
       "\n",
       "  ORDER_SUBCHANNEL_NAME ORDER_OCCASION_NAME  \n",
       "0                   WWT                ToGo  \n",
       "1                   WWT                ToGo  \n",
       "2                   WWT                ToGo  "
      ]
     },
     "metadata": {},
     "output_type": "display_data"
    },
    {
     "name": "stdout",
     "output_type": "stream",
     "text": [
      "<class 'pandas.core.frame.DataFrame'>\n",
      "RangeIndex: 1414410 entries, 0 to 1414409\n",
      "Data columns (total 8 columns):\n",
      " #   Column                 Non-Null Count    Dtype \n",
      "---  ------                 --------------    ----- \n",
      " 0   CUSTOMER_ID            1414410 non-null  int64 \n",
      " 1   STORE_NUMBER           1414410 non-null  int64 \n",
      " 2   ORDER_CREATED_DATE     1414410 non-null  object\n",
      " 3   ORDER_ID               1414410 non-null  int64 \n",
      " 4   ORDERS                 1414410 non-null  object\n",
      " 5   ORDER_CHANNEL_NAME     1414410 non-null  object\n",
      " 6   ORDER_SUBCHANNEL_NAME  1414410 non-null  object\n",
      " 7   ORDER_OCCASION_NAME    1414410 non-null  object\n",
      "dtypes: int64(3), object(5)\n",
      "memory usage: 86.3+ MB\n",
      "None\n"
     ]
    }
   ],
   "source": [
    "# Quickly Looking at the Order Data\n",
    "for name, df in zip([\"Order Data\"], [order_df]):\n",
    "    print(f\"\\n {name} → Shape: {df.shape}\")\n",
    "    display(df.head(3))\n",
    "    print(df.info())\n"
   ]
  },
  {
   "cell_type": "code",
   "execution_count": 241,
   "id": "66448f26",
   "metadata": {},
   "outputs": [],
   "source": [
    "# Function to extract item names from the 'ORDERS' JSON column\n",
    "def extract_item_names(order_str):\n",
    "    try:\n",
    "        order_json = json.loads(order_str)  # Convert string to dict\n",
    "        item_names = []\n",
    "        for order in order_json.get(\"orders\", []):\n",
    "            for item in order.get(\"item_details\", []):\n",
    "                item_name = item.get(\"item_name\")\n",
    "                if item_name:\n",
    "                    item_names.append(item_name)\n",
    "        return item_names\n",
    "    except Exception as e:\n",
    "        return []  # Return empty list if row is malformed"
   ]
  },
  {
   "cell_type": "code",
   "execution_count": 242,
   "id": "161d3a7b",
   "metadata": {},
   "outputs": [],
   "source": [
    "# Apply the function to create a clean item list column\n",
    "order_df['ITEM_LIST'] = order_df['ORDERS'].apply(extract_item_names)"
   ]
  },
  {
   "cell_type": "code",
   "execution_count": 243,
   "id": "247c922f",
   "metadata": {},
   "outputs": [
    {
     "data": {
      "text/html": [
       "<div>\n",
       "<style scoped>\n",
       "    .dataframe tbody tr th:only-of-type {\n",
       "        vertical-align: middle;\n",
       "    }\n",
       "\n",
       "    .dataframe tbody tr th {\n",
       "        vertical-align: top;\n",
       "    }\n",
       "\n",
       "    .dataframe thead th {\n",
       "        text-align: right;\n",
       "    }\n",
       "</style>\n",
       "<table border=\"1\" class=\"dataframe\">\n",
       "  <thead>\n",
       "    <tr style=\"text-align: right;\">\n",
       "      <th></th>\n",
       "      <th>ORDERS</th>\n",
       "      <th>ITEM_LIST</th>\n",
       "    </tr>\n",
       "  </thead>\n",
       "  <tbody>\n",
       "    <tr>\n",
       "      <th>0</th>\n",
       "      <td>{\"orders\": [{\"item_details\": [{\"item_name\": \"O...</td>\n",
       "      <td>[Order Memo Not Paid, 10 pc Grilled Wings Comb...</td>\n",
       "    </tr>\n",
       "    <tr>\n",
       "      <th>1</th>\n",
       "      <td>{\"orders\": [{\"item_details\": [{\"item_name\": \"R...</td>\n",
       "      <td>[Ranch Dip - Regular, 50 pc Grilled Wings, Reg...</td>\n",
       "    </tr>\n",
       "    <tr>\n",
       "      <th>2</th>\n",
       "      <td>{\"orders\": [{\"item_details\": [{\"item_name\": \"2...</td>\n",
       "      <td>[20pc Spicy Feast Deal, Order Memo Paid]</td>\n",
       "    </tr>\n",
       "  </tbody>\n",
       "</table>\n",
       "</div>"
      ],
      "text/plain": [
       "                                              ORDERS  \\\n",
       "0  {\"orders\": [{\"item_details\": [{\"item_name\": \"O...   \n",
       "1  {\"orders\": [{\"item_details\": [{\"item_name\": \"R...   \n",
       "2  {\"orders\": [{\"item_details\": [{\"item_name\": \"2...   \n",
       "\n",
       "                                           ITEM_LIST  \n",
       "0  [Order Memo Not Paid, 10 pc Grilled Wings Comb...  \n",
       "1  [Ranch Dip - Regular, 50 pc Grilled Wings, Reg...  \n",
       "2           [20pc Spicy Feast Deal, Order Memo Paid]  "
      ]
     },
     "execution_count": 243,
     "metadata": {},
     "output_type": "execute_result"
    }
   ],
   "source": [
    "# Preview parsed results\n",
    "order_df[['ORDERS', 'ITEM_LIST']].head(3)"
   ]
  },
  {
   "cell_type": "code",
   "execution_count": 244,
   "id": "f1b6507a",
   "metadata": {},
   "outputs": [],
   "source": [
    "#Item Parsing Preview & Cart Size Distribution\n",
    "\n",
    "#We inspect a few sample rows after parsing the `ORDERS` column into structured item lists, and analyze how many items appear in each order. This guides modeling decisions and helps identify common vs. rare cart patterns."
   ]
  },
  {
   "cell_type": "code",
   "execution_count": 245,
   "id": "cdeefe04",
   "metadata": {},
   "outputs": [
    {
     "data": {
      "text/html": [
       "<div>\n",
       "<style scoped>\n",
       "    .dataframe tbody tr th:only-of-type {\n",
       "        vertical-align: middle;\n",
       "    }\n",
       "\n",
       "    .dataframe tbody tr th {\n",
       "        vertical-align: top;\n",
       "    }\n",
       "\n",
       "    .dataframe thead th {\n",
       "        text-align: right;\n",
       "    }\n",
       "</style>\n",
       "<table border=\"1\" class=\"dataframe\">\n",
       "  <thead>\n",
       "    <tr style=\"text-align: right;\">\n",
       "      <th></th>\n",
       "      <th>ORDERS</th>\n",
       "      <th>ITEM_LIST</th>\n",
       "    </tr>\n",
       "  </thead>\n",
       "  <tbody>\n",
       "    <tr>\n",
       "      <th>0</th>\n",
       "      <td>{\"orders\": [{\"item_details\": [{\"item_name\": \"O...</td>\n",
       "      <td>[Order Memo Not Paid, 10 pc Grilled Wings Comb...</td>\n",
       "    </tr>\n",
       "    <tr>\n",
       "      <th>1</th>\n",
       "      <td>{\"orders\": [{\"item_details\": [{\"item_name\": \"R...</td>\n",
       "      <td>[Ranch Dip - Regular, 50 pc Grilled Wings, Reg...</td>\n",
       "    </tr>\n",
       "    <tr>\n",
       "      <th>2</th>\n",
       "      <td>{\"orders\": [{\"item_details\": [{\"item_name\": \"2...</td>\n",
       "      <td>[20pc Spicy Feast Deal, Order Memo Paid]</td>\n",
       "    </tr>\n",
       "    <tr>\n",
       "      <th>3</th>\n",
       "      <td>{\"orders\": [{\"item_details\": [{\"item_name\": \"O...</td>\n",
       "      <td>[Order Memo Item, Order Memo Paid, 20 pc Grill...</td>\n",
       "    </tr>\n",
       "    <tr>\n",
       "      <th>4</th>\n",
       "      <td>{\"orders\": [{\"item_details\": [{\"item_name\": \"O...</td>\n",
       "      <td>[Order Blankline 2, 6 pc Grilled Wings Combo, ...</td>\n",
       "    </tr>\n",
       "  </tbody>\n",
       "</table>\n",
       "</div>"
      ],
      "text/plain": [
       "                                              ORDERS  \\\n",
       "0  {\"orders\": [{\"item_details\": [{\"item_name\": \"O...   \n",
       "1  {\"orders\": [{\"item_details\": [{\"item_name\": \"R...   \n",
       "2  {\"orders\": [{\"item_details\": [{\"item_name\": \"2...   \n",
       "3  {\"orders\": [{\"item_details\": [{\"item_name\": \"O...   \n",
       "4  {\"orders\": [{\"item_details\": [{\"item_name\": \"O...   \n",
       "\n",
       "                                           ITEM_LIST  \n",
       "0  [Order Memo Not Paid, 10 pc Grilled Wings Comb...  \n",
       "1  [Ranch Dip - Regular, 50 pc Grilled Wings, Reg...  \n",
       "2           [20pc Spicy Feast Deal, Order Memo Paid]  \n",
       "3  [Order Memo Item, Order Memo Paid, 20 pc Grill...  \n",
       "4  [Order Blankline 2, 6 pc Grilled Wings Combo, ...  "
      ]
     },
     "execution_count": 245,
     "metadata": {},
     "output_type": "execute_result"
    }
   ],
   "source": [
    "order_df[['ORDERS', 'ITEM_LIST']].head(5)"
   ]
  },
  {
   "cell_type": "code",
   "execution_count": 246,
   "id": "ab5ed886",
   "metadata": {},
   "outputs": [
    {
     "data": {
      "text/plain": [
       "ITEM_LIST\n",
       "2     455949\n",
       "3     330274\n",
       "4     168797\n",
       "6     168327\n",
       "7     118292\n",
       "5      67839\n",
       "8      63626\n",
       "9      26555\n",
       "10      9768\n",
       "11      3385\n",
       "Name: count, dtype: int64"
      ]
     },
     "execution_count": 246,
     "metadata": {},
     "output_type": "execute_result"
    }
   ],
   "source": [
    "order_df['ITEM_LIST'].apply(len).value_counts().head(10)"
   ]
  },
  {
   "cell_type": "code",
   "execution_count": 247,
   "id": "ba5d0b33",
   "metadata": {},
   "outputs": [
    {
     "name": "stdout",
     "output_type": "stream",
     "text": [
      "\n",
      "Customer Data → Shape: (563346, 2)\n"
     ]
    },
    {
     "data": {
      "text/html": [
       "<div>\n",
       "<style scoped>\n",
       "    .dataframe tbody tr th:only-of-type {\n",
       "        vertical-align: middle;\n",
       "    }\n",
       "\n",
       "    .dataframe tbody tr th {\n",
       "        vertical-align: top;\n",
       "    }\n",
       "\n",
       "    .dataframe thead th {\n",
       "        text-align: right;\n",
       "    }\n",
       "</style>\n",
       "<table border=\"1\" class=\"dataframe\">\n",
       "  <thead>\n",
       "    <tr style=\"text-align: right;\">\n",
       "      <th></th>\n",
       "      <th>CUSTOMER_ID</th>\n",
       "      <th>CUSTOMER_TYPE</th>\n",
       "    </tr>\n",
       "  </thead>\n",
       "  <tbody>\n",
       "    <tr>\n",
       "      <th>0</th>\n",
       "      <td>362204699</td>\n",
       "      <td>Registered</td>\n",
       "    </tr>\n",
       "    <tr>\n",
       "      <th>1</th>\n",
       "      <td>269612955</td>\n",
       "      <td>Registered</td>\n",
       "    </tr>\n",
       "    <tr>\n",
       "      <th>2</th>\n",
       "      <td>585330633</td>\n",
       "      <td>Guest</td>\n",
       "    </tr>\n",
       "  </tbody>\n",
       "</table>\n",
       "</div>"
      ],
      "text/plain": [
       "   CUSTOMER_ID CUSTOMER_TYPE\n",
       "0    362204699    Registered\n",
       "1    269612955    Registered\n",
       "2    585330633         Guest"
      ]
     },
     "metadata": {},
     "output_type": "display_data"
    },
    {
     "name": "stdout",
     "output_type": "stream",
     "text": [
      "<class 'pandas.core.frame.DataFrame'>\n",
      "RangeIndex: 563346 entries, 0 to 563345\n",
      "Data columns (total 2 columns):\n",
      " #   Column         Non-Null Count   Dtype \n",
      "---  ------         --------------   ----- \n",
      " 0   CUSTOMER_ID    563346 non-null  int64 \n",
      " 1   CUSTOMER_TYPE  563319 non-null  object\n",
      "dtypes: int64(1), object(1)\n",
      "memory usage: 8.6+ MB\n"
     ]
    },
    {
     "data": {
      "text/plain": [
       "None"
      ]
     },
     "metadata": {},
     "output_type": "display_data"
    }
   ],
   "source": [
    "#Quickly Looking at the Order Data\n",
    "for name, df in zip(\n",
    "    [\"Customer Data\"],[customer_df]\n",
    "):\n",
    "    print(f\"\\n{name} → Shape: {df.shape}\")\n",
    "    display(df.head(3))\n",
    "    display(df.info())"
   ]
  },
  {
   "cell_type": "code",
   "execution_count": 248,
   "id": "04c7f0df",
   "metadata": {},
   "outputs": [
    {
     "data": {
      "text/plain": [
       "CUSTOMER_TYPE\n",
       "Registered         406653\n",
       "Guest              155132\n",
       "eClub                1184\n",
       "Deleted Account       348\n",
       "NaN                    27\n",
       "Online                  2\n",
       "Name: count, dtype: int64"
      ]
     },
     "execution_count": 248,
     "metadata": {},
     "output_type": "execute_result"
    }
   ],
   "source": [
    "customer_df['CUSTOMER_TYPE'].value_counts(dropna=False)"
   ]
  },
  {
   "cell_type": "code",
   "execution_count": 249,
   "id": "90a22e3f",
   "metadata": {},
   "outputs": [],
   "source": [
    "customer_df['CUSTOMER_TYPE'] = customer_df['CUSTOMER_TYPE'].fillna('Unknown')"
   ]
  },
  {
   "cell_type": "code",
   "execution_count": 250,
   "id": "3c984e4e",
   "metadata": {},
   "outputs": [
    {
     "name": "stdout",
     "output_type": "stream",
     "text": [
      "\n",
      "Store Data → Shape: (38, 4)\n"
     ]
    },
    {
     "data": {
      "text/html": [
       "<div>\n",
       "<style scoped>\n",
       "    .dataframe tbody tr th:only-of-type {\n",
       "        vertical-align: middle;\n",
       "    }\n",
       "\n",
       "    .dataframe tbody tr th {\n",
       "        vertical-align: top;\n",
       "    }\n",
       "\n",
       "    .dataframe thead th {\n",
       "        text-align: right;\n",
       "    }\n",
       "</style>\n",
       "<table border=\"1\" class=\"dataframe\">\n",
       "  <thead>\n",
       "    <tr style=\"text-align: right;\">\n",
       "      <th></th>\n",
       "      <th>STORE_NUMBER</th>\n",
       "      <th>CITY</th>\n",
       "      <th>STATE</th>\n",
       "      <th>POSTAL_CODE</th>\n",
       "    </tr>\n",
       "  </thead>\n",
       "  <tbody>\n",
       "    <tr>\n",
       "      <th>0</th>\n",
       "      <td>2156</td>\n",
       "      <td>GRAPEVINE</td>\n",
       "      <td>TX</td>\n",
       "      <td>76051</td>\n",
       "    </tr>\n",
       "    <tr>\n",
       "      <th>1</th>\n",
       "      <td>1419</td>\n",
       "      <td>HUNTERSVILLE</td>\n",
       "      <td>NC</td>\n",
       "      <td>28078</td>\n",
       "    </tr>\n",
       "    <tr>\n",
       "      <th>2</th>\n",
       "      <td>2249</td>\n",
       "      <td>NaN</td>\n",
       "      <td>NaN</td>\n",
       "      <td>32792</td>\n",
       "    </tr>\n",
       "  </tbody>\n",
       "</table>\n",
       "</div>"
      ],
      "text/plain": [
       "   STORE_NUMBER          CITY STATE POSTAL_CODE\n",
       "0          2156     GRAPEVINE    TX       76051\n",
       "1          1419  HUNTERSVILLE    NC       28078\n",
       "2          2249           NaN   NaN       32792"
      ]
     },
     "metadata": {},
     "output_type": "display_data"
    },
    {
     "name": "stdout",
     "output_type": "stream",
     "text": [
      "<class 'pandas.core.frame.DataFrame'>\n",
      "RangeIndex: 38 entries, 0 to 37\n",
      "Data columns (total 4 columns):\n",
      " #   Column        Non-Null Count  Dtype \n",
      "---  ------        --------------  ----- \n",
      " 0   STORE_NUMBER  38 non-null     int64 \n",
      " 1   CITY          25 non-null     object\n",
      " 2   STATE         24 non-null     object\n",
      " 3   POSTAL_CODE   36 non-null     object\n",
      "dtypes: int64(1), object(3)\n",
      "memory usage: 1.3+ KB\n"
     ]
    },
    {
     "data": {
      "text/plain": [
       "None"
      ]
     },
     "metadata": {},
     "output_type": "display_data"
    }
   ],
   "source": [
    "#Quickly Looking at the Store Data\n",
    "for name, df in zip(\n",
    "    [\"Store Data\"],[store_df]\n",
    "):\n",
    "    print(f\"\\n{name} → Shape: {df.shape}\")\n",
    "    display(df.head(3))\n",
    "    display(df.info())"
   ]
  },
  {
   "cell_type": "code",
   "execution_count": 251,
   "id": "8733fa77",
   "metadata": {},
   "outputs": [],
   "source": [
    "store_df.fillna(\"Unknown\", inplace=True)"
   ]
  },
  {
   "cell_type": "code",
   "execution_count": 252,
   "id": "ff069923",
   "metadata": {},
   "outputs": [
    {
     "name": "stdout",
     "output_type": "stream",
     "text": [
      "\n",
      " Test Data → Shape: (1000, 10)\n"
     ]
    },
    {
     "data": {
      "text/html": [
       "<div>\n",
       "<style scoped>\n",
       "    .dataframe tbody tr th:only-of-type {\n",
       "        vertical-align: middle;\n",
       "    }\n",
       "\n",
       "    .dataframe tbody tr th {\n",
       "        vertical-align: top;\n",
       "    }\n",
       "\n",
       "    .dataframe thead th {\n",
       "        text-align: right;\n",
       "    }\n",
       "</style>\n",
       "<table border=\"1\" class=\"dataframe\">\n",
       "  <thead>\n",
       "    <tr style=\"text-align: right;\">\n",
       "      <th></th>\n",
       "      <th>CUSTOMER_ID</th>\n",
       "      <th>STORE_NUMBER</th>\n",
       "      <th>ORDER_ID</th>\n",
       "      <th>ORDER_CHANNEL_NAME</th>\n",
       "      <th>ORDER_SUBCHANNEL_NAME</th>\n",
       "      <th>ORDER_OCCASION_NAME</th>\n",
       "      <th>CUSTOMER_TYPE</th>\n",
       "      <th>item1</th>\n",
       "      <th>item2</th>\n",
       "      <th>item3</th>\n",
       "    </tr>\n",
       "  </thead>\n",
       "  <tbody>\n",
       "    <tr>\n",
       "      <th>0</th>\n",
       "      <td>997177535</td>\n",
       "      <td>4915</td>\n",
       "      <td>9351345556</td>\n",
       "      <td>Digital</td>\n",
       "      <td>WWT</td>\n",
       "      <td>ToGo</td>\n",
       "      <td>Guest</td>\n",
       "      <td>Chicken Sub Combo</td>\n",
       "      <td>Ranch Dip - Regular</td>\n",
       "      <td>10 pc Spicy Wings Combo</td>\n",
       "    </tr>\n",
       "    <tr>\n",
       "      <th>1</th>\n",
       "      <td>345593831</td>\n",
       "      <td>949</td>\n",
       "      <td>3595377080</td>\n",
       "      <td>Digital</td>\n",
       "      <td>WWT</td>\n",
       "      <td>ToGo</td>\n",
       "      <td>Registered</td>\n",
       "      <td>Regular Buffalo Fries</td>\n",
       "      <td>10 pc Spicy Wings</td>\n",
       "      <td>3 pc Crispy Strips Combo</td>\n",
       "    </tr>\n",
       "    <tr>\n",
       "      <th>2</th>\n",
       "      <td>160955031</td>\n",
       "      <td>2249</td>\n",
       "      <td>4071757785</td>\n",
       "      <td>Digital</td>\n",
       "      <td>WWT</td>\n",
       "      <td>ToGo</td>\n",
       "      <td>Guest</td>\n",
       "      <td>Large Buffalo Fries</td>\n",
       "      <td>10 pc Spicy Wings</td>\n",
       "      <td>Ranch Dip - Regular</td>\n",
       "    </tr>\n",
       "  </tbody>\n",
       "</table>\n",
       "</div>"
      ],
      "text/plain": [
       "   CUSTOMER_ID  STORE_NUMBER    ORDER_ID ORDER_CHANNEL_NAME  \\\n",
       "0    997177535          4915  9351345556            Digital   \n",
       "1    345593831           949  3595377080            Digital   \n",
       "2    160955031          2249  4071757785            Digital   \n",
       "\n",
       "  ORDER_SUBCHANNEL_NAME ORDER_OCCASION_NAME CUSTOMER_TYPE  \\\n",
       "0                   WWT                ToGo         Guest   \n",
       "1                   WWT                ToGo    Registered   \n",
       "2                   WWT                ToGo         Guest   \n",
       "\n",
       "                   item1                item2                     item3  \n",
       "0      Chicken Sub Combo  Ranch Dip - Regular   10 pc Spicy Wings Combo  \n",
       "1  Regular Buffalo Fries    10 pc Spicy Wings  3 pc Crispy Strips Combo  \n",
       "2    Large Buffalo Fries    10 pc Spicy Wings       Ranch Dip - Regular  "
      ]
     },
     "metadata": {},
     "output_type": "display_data"
    },
    {
     "name": "stdout",
     "output_type": "stream",
     "text": [
      "<class 'pandas.core.frame.DataFrame'>\n",
      "RangeIndex: 1000 entries, 0 to 999\n",
      "Data columns (total 10 columns):\n",
      " #   Column                 Non-Null Count  Dtype \n",
      "---  ------                 --------------  ----- \n",
      " 0   CUSTOMER_ID            1000 non-null   int64 \n",
      " 1   STORE_NUMBER           1000 non-null   int64 \n",
      " 2   ORDER_ID               1000 non-null   int64 \n",
      " 3   ORDER_CHANNEL_NAME     1000 non-null   object\n",
      " 4   ORDER_SUBCHANNEL_NAME  1000 non-null   object\n",
      " 5   ORDER_OCCASION_NAME    1000 non-null   object\n",
      " 6   CUSTOMER_TYPE          1000 non-null   object\n",
      " 7   item1                  1000 non-null   object\n",
      " 8   item2                  1000 non-null   object\n",
      " 9   item3                  1000 non-null   object\n",
      "dtypes: int64(3), object(7)\n",
      "memory usage: 78.2+ KB\n"
     ]
    },
    {
     "data": {
      "text/plain": [
       "None"
      ]
     },
     "metadata": {},
     "output_type": "display_data"
    }
   ],
   "source": [
    "#Quickly Looking at the Test Data\n",
    "\n",
    "for name, df in zip(\n",
    "    [\"Test Data\"],[test_df]\n",
    "):\n",
    "    print(f\"\\n {name} → Shape: {df.shape}\")\n",
    "    display(df.head(3))\n",
    "    display(df.info())"
   ]
  },
  {
   "cell_type": "code",
   "execution_count": 253,
   "id": "afda35fa",
   "metadata": {},
   "outputs": [
    {
     "data": {
      "text/plain": [
       "np.int64(0)"
      ]
     },
     "execution_count": 253,
     "metadata": {},
     "output_type": "execute_result"
    }
   ],
   "source": [
    "test_df.duplicated().sum()  #To check if there is any Duplicate Rows?"
   ]
  },
  {
   "cell_type": "code",
   "execution_count": 254,
   "id": "105fa3db",
   "metadata": {},
   "outputs": [
    {
     "data": {
      "text/plain": [
       "set()"
      ]
     },
     "execution_count": 254,
     "metadata": {},
     "output_type": "execute_result"
    }
   ],
   "source": [
    "# Getting all unique items from training data\n",
    "all_items = set(item for sublist in order_df['ITEM_LIST'] for item in sublist)\n",
    "\n",
    "# Checking if any unknown items are present in test set\n",
    "test_items = set(test_df[['item1', 'item2', 'item3']].values.ravel())\n",
    "test_items - all_items"
   ]
  },
  {
   "cell_type": "code",
   "execution_count": 255,
   "id": "8557326d",
   "metadata": {},
   "outputs": [],
   "source": [
    "non_items = ['memo', 'blankline', 'asap', 'order']"
   ]
  },
  {
   "cell_type": "code",
   "execution_count": 256,
   "id": "ec88f2f4",
   "metadata": {},
   "outputs": [],
   "source": [
    "#Cleaning irrelevant entries from item list\n",
    "def clean_item_list(item_list):\n",
    "    return [\n",
    "        item for item in item_list \n",
    "        if not any(skipword.lower() in item.lower() for skipword in non_items)\n",
    "    ]"
   ]
  },
  {
   "cell_type": "code",
   "execution_count": 257,
   "id": "a8f13d4b",
   "metadata": {},
   "outputs": [],
   "source": [
    "order_df['ITEM_LIST'] = order_df['ITEM_LIST'].apply(clean_item_list)"
   ]
  },
  {
   "cell_type": "code",
   "execution_count": 258,
   "id": "32153856",
   "metadata": {},
   "outputs": [],
   "source": [
    "# Flattening the list to count frequencies\n",
    "all_items = [item for sublist in order_df['ITEM_LIST'] for item in sublist]\n",
    "item_counter = Counter(all_items)"
   ]
  },
  {
   "cell_type": "code",
   "execution_count": 259,
   "id": "370e66f9",
   "metadata": {},
   "outputs": [],
   "source": [
    "#Converting to DataFrame for top 20\n",
    "top_items_df = pd.DataFrame(item_counter.most_common(20), columns=['Item', 'Count'])"
   ]
  },
  {
   "cell_type": "code",
   "execution_count": 260,
   "id": "7e1bcae7",
   "metadata": {},
   "outputs": [
    {
     "name": "stderr",
     "output_type": "stream",
     "text": [
      "/var/folders/6j/lxphv3h16r5_1t75x1vy60m40000gn/T/ipykernel_12852/2865266037.py:3: FutureWarning: \n",
      "\n",
      "Passing `palette` without assigning `hue` is deprecated and will be removed in v0.14.0. Assign the `y` variable to `hue` and set `legend=False` for the same effect.\n",
      "\n",
      "  sns.barplot(data=top_items_df, x='Count', y='Item', palette='viridis')\n"
     ]
    },
    {
     "data": {
      "image/png": "[encoded data removed]",
      "text/plain": [
       "<Figure size 1000x600 with 1 Axes>"
      ]
     },
     "metadata": {},
     "output_type": "display_data"
    }
   ],
   "source": [
    "# Plotting top 20 items\n",
    "plt.figure(figsize=(10, 6))\n",
    "sns.barplot(data=top_items_df, x='Count', y='Item', palette='viridis')\n",
    "plt.title(\"Top 20 Most Frequently Ordered Items\")\n",
    "plt.xlabel(\"Order Count\")\n",
    "plt.ylabel(\"Item\")\n",
    "plt.tight_layout()\n",
    "plt.show()"
   ]
  },
  {
   "cell_type": "code",
   "execution_count": 261,
   "id": "79f227fc",
   "metadata": {},
   "outputs": [],
   "source": [
    "from itertools import combinations\n",
    "from collections import Counter, defaultdict"
   ]
  },
  {
   "cell_type": "code",
   "execution_count": 262,
   "id": "c8aa1e67",
   "metadata": {},
   "outputs": [],
   "source": [
    "# Counting frequency of item pairs appearing together in orders\n",
    "pair_counter = Counter()\n",
    "for item_list in order_df['ITEM_LIST']:\n",
    "    unique_items = list(set(item_list))  # Removing duplicates within a single order\n",
    "    for pair in combinations(sorted(unique_items), 2):  # Getting all unique item pairs\n",
    "        pair_counter[pair] += 1"
   ]
  },
  {
   "cell_type": "code",
   "execution_count": 263,
   "id": "404df8ce",
   "metadata": {},
   "outputs": [],
   "source": [
    "# Converting the pair counts into a symmetric co-occurrence dictionary\n",
    "co_occurrence_dict = defaultdict(dict)\n",
    "for (item1, item2), count in pair_counter.items():\n",
    "    co_occurrence_dict[item1][item2] = count\n",
    "    co_occurrence_dict[item2][item1] = count  # Symmetry for easy lookup"
   ]
  },
  {
   "cell_type": "code",
   "execution_count": 264,
   "id": "a3444eae",
   "metadata": {},
   "outputs": [
    {
     "data": {
      "text/plain": [
       "{'50 pc Grilled Wings': 870,\n",
       " 'Regular Buffalo Fries': 42146,\n",
       " '20 pc Grilled Wings': 16520,\n",
       " '10 pc Grilled Wings': 38946,\n",
       " 'Veggie Sticks Spicy': 10366,\n",
       " '8 pc Grilled Wings Combo': 30316,\n",
       " '10 pc Spicy Wings': 31620,\n",
       " 'Honey Mustard Dip - Regular': 4299,\n",
       " 'Ranch Dip - Large': 7985,\n",
       " 'Voodoo Fries - Regular': 5876,\n",
       " '20pc Spicy Feast Deal': 26235,\n",
       " '6 pc Mixed Wings Combo': 1764,\n",
       " 'Large Buffalo Fries': 19255,\n",
       " '10 pc Grilled Wings Combo': 46345,\n",
       " '15 pc Spicy Wings': 10917,\n",
       " '2 pc Crispy Strips': 21994,\n",
       " '6 pc Grilled Wings Combo': 26554,\n",
       " 'Fried Corn - Regular': 19044,\n",
       " '24 pc Family Grilled Wings': 2532,\n",
       " '20 Oz Soda': 5733,\n",
       " 'Veggie Sticks': 3245,\n",
       " '15 pc Mixed Wings': 1769,\n",
       " 'Fried Corn - Large': 9705,\n",
       " 'Dipping Sauce': 12924,\n",
       " '20 pc Spicy Wings': 2884,\n",
       " '10 pc Mixed Wings Combo': 4013,\n",
       " '3 pc Crispy Strips Combo': 10517,\n",
       " 'Chicken Sub': 7891,\n",
       " '6 pc Spicy Wings Combo': 16298,\n",
       " '8 pc Spicy Wings Combo': 15533,\n",
       " '15 pc Grilled Wings': 19148,\n",
       " '15 pc Grilled Wings Combo': 7580,\n",
       " 'Cheese Dip - Medium': 2361,\n",
       " '24 pc Family Spicy Wings': 224,\n",
       " 'Add 5 Grilled Wings': 10273,\n",
       " '10 pc Spicy Wings Combo': 16014,\n",
       " '5 pc Crispy Strips Combo': 9228,\n",
       " 'Cheese Dip - Regular': 4111,\n",
       " 'Blue Cheese Dip - Regular': 9669,\n",
       " '15 pc Spicy Wings Combo': 1180,\n",
       " '30 pc Grilled Wings': 4220,\n",
       " '4 pc Crispy Strips': 6406,\n",
       " '40 pc Family Mixed Wings': 384,\n",
       " '50 pc Family Spicy Wings': 132,\n",
       " '32 Oz Soda': 4986,\n",
       " 'Large Carrot Sticks': 240,\n",
       " 'Add 5 Spicy Wings': 10368,\n",
       " 'Chicken Sub Combo': 8111,\n",
       " 'Cheese Fries - Large': 1395,\n",
       " 'Legendary Feast Bundle': 590,\n",
       " '10 pc Mixed Wings': 2943,\n",
       " 'Celery Sticks': 890,\n",
       " 'Wings Lunch Combo': 685,\n",
       " 'Voodoo Fries - Large': 2378,\n",
       " 'Flavor Platter': 4250,\n",
       " '25 pc Game Day Pack': 3512,\n",
       " '3 Strips Lunch': 2157,\n",
       " '15 pc Mixed Wings Combo': 1105,\n",
       " 'Large Veggie Sticks Spicy': 4164,\n",
       " '30 pc Family Grilled Wings': 2849,\n",
       " 'Cheese Fries - Regular': 2473,\n",
       " '40 pc Family Grilled Wings': 979,\n",
       " '8 pc Mixed Wings Combo': 2506,\n",
       " 'Triple Chocolate Cake': 2627,\n",
       " 'Buffalo Fries': 1413,\n",
       " '30 pc Family Mixed Wings': 854,\n",
       " '50 pc Family Grilled Wings': 761,\n",
       " '30 pc Mixed Wings': 720,\n",
       " '20 pc Mixed Wings': 2229,\n",
       " 'Hot Honey Strips 3pc': 477,\n",
       " '100 pc Family Spicy Wings': 40,\n",
       " 'Cheese Dip - Large': 416,\n",
       " 'Honey Mustard Dip - Large': 175,\n",
       " '7 pc Crispy Strips': 3699,\n",
       " 'Carrot Sticks': 1753,\n",
       " '75 pc Grilled Wings': 198,\n",
       " '6 pc Strips Meal for 2': 915,\n",
       " '40 pc Family Spicy Wings': 205,\n",
       " 'Bottled Water': 91,\n",
       " '100 pc Family Grilled Wings': 117,\n",
       " '8 pc Crispy Strips Combo': 1011,\n",
       " '30 pc Family Spicy Wings': 539,\n",
       " '50 pc Mixed Wings': 243,\n",
       " 'Flavor Platter Grilled': 170,\n",
       " 'Large Fruit Punch': 667,\n",
       " '30 pc Spicy Wings': 829,\n",
       " 'Blue Cheese Dip - Large': 659,\n",
       " 'Grilled Lunch Combo': 161,\n",
       " '75 pc Family Grilled Wings': 134,\n",
       " '8pc Grilled Box': 81,\n",
       " '8pc Wings Box': 20,\n",
       " '50 pc Spicy Wings': 251,\n",
       " 'Large Veggie Sticks': 733,\n",
       " '100 pc Grilled Wings': 149,\n",
       " '15 pc Crispy Strips': 525,\n",
       " '75 pc Family Mixed Wings': 73,\n",
       " '50 pc Family Mixed Wings': 323,\n",
       " 'Seasoning Pack': 42,\n",
       " '20 pc Crispy Strips': 153,\n",
       " '24 pc Family Mixed Wings': 651,\n",
       " '100 pc Spicy Wings': 38,\n",
       " '75 pc Spicy Wings': 67,\n",
       " '75 pc Mixed Wings': 58,\n",
       " '100 pc Family Mixed Wings': 51,\n",
       " 'Plastic Utensils': 301,\n",
       " 'Large Celery Sticks': 93,\n",
       " 'Plastic Fork': 238,\n",
       " 'Plastic Knife': 57,\n",
       " 'Ketchup Pack': 117,\n",
       " '30 pc Crispy Strips': 49,\n",
       " 'Plastic Straw': 81,\n",
       " 'Domestic Lager': 11,\n",
       " '$19.99 Crispy Feast': 16,\n",
       " '100 pc Mixed Wings': 50,\n",
       " '8 pc Grilled Wings': 1,\n",
       " 'Sub Box': 10,\n",
       " 'Bottled Sparkling Water': 9,\n",
       " 'Can Soda': 1,\n",
       " '75 pc Family Spicy Wings': 32,\n",
       " '5 pc Grilled Wings': 6,\n",
       " 'Bottled Root Beer': 1,\n",
       " '3pc Strips Box': 24,\n",
       " 'Bottled Beverage': 45,\n",
       " 'Triple Feast Deal': 5,\n",
       " 'Drink Upgrade': 18,\n",
       " 'Bottled Cream Soda': 7,\n",
       " 'Premium Lager': 2,\n",
       " '3 pc Grilled Wings': 2,\n",
       " 'Domestic Draft Lager': 1,\n",
       " 'Sports Drink': 1,\n",
       " '5 pc Spicy Wings': 1}"
      ]
     },
     "execution_count": 264,
     "metadata": {},
     "output_type": "execute_result"
    }
   ],
   "source": [
    "# Sample lookup: get co-occurrence counts for one popular item\n",
    "co_occurrence_dict['Ranch Dip - Regular']"
   ]
  },
  {
   "cell_type": "code",
   "execution_count": 265,
   "id": "5a76e21a",
   "metadata": {},
   "outputs": [],
   "source": [
    "def recommend_from_cart(cart_items, co_dict, top_n=3):\n",
    "    from collections import defaultdict\n",
    "\n",
    "    score_counter = defaultdict(int)\n",
    "\n",
    "    # Aggregating co-occurrence scores for items in the cart\n",
    "    for item in cart_items:\n",
    "        if item in co_dict:\n",
    "            for co_item, count in co_dict[item].items():\n",
    "                if co_item not in cart_items:  # Avoiding recommending items already present\n",
    "                    score_counter[co_item] += count\n",
    "\n",
    "    # Returning top-N items based on total co-occurrence scores\n",
    "    sorted_items = sorted(score_counter.items(), key=lambda x: x[1], reverse=True)\n",
    "    return [item for item, _ in sorted_items[:top_n]]"
   ]
  },
  {
   "cell_type": "code",
   "execution_count": 266,
   "id": "df357951",
   "metadata": {},
   "outputs": [
    {
     "data": {
      "text/plain": [
       "['Regular Buffalo Fries', '10 pc Grilled Wings', '8 pc Grilled Wings Combo']"
      ]
     },
     "execution_count": 266,
     "metadata": {},
     "output_type": "execute_result"
    }
   ],
   "source": [
    "sample_cart = ['Ranch Dip - Regular', '20 Oz Soda', '10 pc Grilled Wings Combo']\n",
    "recommend_from_cart(sample_cart, co_occurrence_dict)"
   ]
  },
  {
   "cell_type": "code",
   "execution_count": 267,
   "id": "a1f05451",
   "metadata": {},
   "outputs": [],
   "source": [
    "# Creating a copy of the test set to add predictions\n",
    "test_df = test_df.copy()"
   ]
  },
  {
   "cell_type": "code",
   "execution_count": 268,
   "id": "dad02f05",
   "metadata": {},
   "outputs": [],
   "source": [
    "# Creating empty columns for predictions\n",
    "test_df['pred1'] = ''\n",
    "test_df['pred2'] = ''\n",
    "test_df['pred3'] = ''\n",
    "\n",
    "# Looping over each row\n",
    "for idx, row in test_df.iterrows():\n",
    "    cart_items = [row['item1'], row['item2'], row['item3']]\n",
    "    recs = recommend_from_cart(cart_items, co_occurrence_dict)\n",
    "    \n",
    "    # Saving predictions\n",
    "    for i in range(len(recs)):\n",
    "        test_df.at[idx, f'pred{i+1}'] = recs[i]"
   ]
  },
  {
   "cell_type": "code",
   "execution_count": 269,
   "id": "4ec3a1b2",
   "metadata": {},
   "outputs": [
    {
     "name": "stdout",
     "output_type": "stream",
     "text": [
      "\n",
      " Cart 1: ['Chicken Sub Combo', 'Ranch Dip - Regular', '10 pc Spicy Wings Combo']\n",
      " Suggested: ['10 pc Grilled Wings Combo', 'Regular Buffalo Fries', '10 pc Grilled Wings']\n",
      "\n",
      " Cart 2: ['Regular Buffalo Fries', '10 pc Spicy Wings', '3 pc Crispy Strips Combo']\n",
      " Suggested: ['Ranch Dip - Regular', '10 pc Grilled Wings', 'Ranch Dip - Large']\n",
      "\n",
      " Cart 3: ['Large Buffalo Fries', '10 pc Spicy Wings', 'Ranch Dip - Regular']\n",
      " Suggested: ['Regular Buffalo Fries', '10 pc Grilled Wings Combo', '10 pc Grilled Wings']\n",
      "\n",
      " Cart 4: ['6 pc Grilled Wings Combo', '20 pc Grilled Wings', 'Fried Corn - Large']\n",
      " Suggested: ['Ranch Dip - Regular', '8 pc Grilled Wings Combo', '10 pc Grilled Wings Combo']\n",
      "\n",
      " Cart 5: ['Regular Buffalo Fries', '20 pc Grilled Wings', 'Ranch Dip - Large']\n",
      " Suggested: ['Ranch Dip - Regular', '20pc Spicy Feast Deal', '10 pc Spicy Wings']\n"
     ]
    }
   ],
   "source": [
    "# Previewing recommendations for the first 5 test rows\n",
    "for idx, row in test_df.head(5).iterrows():\n",
    "    cart_items = [row['item1'], row['item2'], row['item3']]\n",
    "    recs = recommend_from_cart(cart_items, co_occurrence_dict)\n",
    "    print(f\"\\n Cart {idx + 1}: {cart_items}\")\n",
    "    print(f\" Suggested: {recs}\")"
   ]
  },
  {
   "cell_type": "code",
   "execution_count": 270,
   "id": "0d8f31d1",
   "metadata": {},
   "outputs": [],
   "source": [
    "#PHASE 2\n",
    "#Step 1: Tagging Items with Features\n",
    "#(Mains, Sides, Drinks, Dips, Combos, etc.)"
   ]
  },
  {
   "cell_type": "code",
   "execution_count": 271,
   "id": "d9243dbd",
   "metadata": {},
   "outputs": [],
   "source": [
    "#Extracting all unique items\n",
    "all_items = set(item for sublist in order_df['ITEM_LIST'] for item in sublist)"
   ]
  },
  {
   "cell_type": "code",
   "execution_count": 272,
   "id": "ace8532f",
   "metadata": {},
   "outputs": [],
   "source": [
    "#Building tagging dictionary from scratch\n",
    "import re\n",
    "item_type_dict = {}"
   ]
  },
  {
   "cell_type": "code",
   "execution_count": 273,
   "id": "a41565cc",
   "metadata": {},
   "outputs": [],
   "source": [
    "for item in all_items:\n",
    "    name = item.lower()\n",
    "    \n",
    "    if re.search(r'(combo|feast|meal|wings|strips|flavor platter|sub|box|lunch|crispy)', name):\n",
    "        item_type_dict[item] = 'main'\n",
    "    elif \"dip\" in name:\n",
    "        item_type_dict[item] = \"dip\"\n",
    "    elif \"fries\" in name or \"corn\" in name or \"sticks\" in name or \"cake\" in name:\n",
    "        item_type_dict[item] = \"side\"\n",
    "    elif \"soda\" in name or \"tea\" in name or \"lemonade\" in name or \"drink\" in name or \"lager\" in name or \"punch\" in name or \"root beer\" in name:\n",
    "        item_type_dict[item] = \"drink\"\n",
    "    else:\n",
    "        item_type_dict[item] = \"other\""
   ]
  },
  {
   "cell_type": "code",
   "execution_count": 274,
   "id": "8137e442",
   "metadata": {},
   "outputs": [],
   "source": [
    "#Visualizing Distribution of Tagged Item Categories\n",
    "\n",
    "# Plotting how many items belong to each category (main, side, drink, etc.)\n",
    "# Helping validate the tagging logic and catch any imbalance or misclassification"
   ]
  },
  {
   "cell_type": "code",
   "execution_count": 275,
   "id": "3814312b",
   "metadata": {},
   "outputs": [
    {
     "data": {
      "image/png": "[encoded data removed]",
      "text/plain": [
       "<Figure size 640x480 with 1 Axes>"
      ]
     },
     "metadata": {},
     "output_type": "display_data"
    }
   ],
   "source": [
    "from collections import Counter\n",
    "import matplotlib.pyplot as plt\n",
    "\n",
    "category_counts = Counter(item_type_dict.values())\n",
    "\n",
    "plt.bar(category_counts.keys(), category_counts.values(), color='orange')\n",
    "plt.xlabel('Category')\n",
    "plt.ylabel('Number of Items')\n",
    "plt.title('Item Category Distribution')\n",
    "plt.show()"
   ]
  },
  {
   "cell_type": "code",
   "execution_count": 276,
   "id": "b74089d8",
   "metadata": {},
   "outputs": [
    {
     "name": "stdout",
     "output_type": "stream",
     "text": [
      "\n",
      "🔹 MAIN items:\n",
      "['75 pc Family Grilled Wings', '30 pc Family Grilled Wings', '8 pc Spicy Wings Combo', '30 pc Crispy Strips', '10 pc Spicy Wings']\n",
      "\n",
      "🔹 SIDE items:\n",
      "['Buffalo Fries', 'Triple Chocolate Cake', 'Large Carrot Sticks', 'Large Veggie Sticks', 'Voodoo Fries - Large']\n",
      "\n",
      "🔹 DIP items:\n",
      "['Ranch Dip - Large', 'Honey Mustard Dip - Large', 'Blue Cheese Dip - Regular', 'Cheese Dip - Large', 'Dipping Sauce']\n",
      "\n",
      "🔹 DRINK items:\n",
      "['Domestic Draft Lager', 'Large Lemonade', 'Can Soda', 'Domestic Lager', '32 Oz Soda']\n",
      "\n",
      "🔹 OTHER items:\n",
      "['Bottled Sparkling Water', 'Plastic Fork', 'Plastic Knife', 'Extra Sauce', 'Unavailable Item']\n"
     ]
    }
   ],
   "source": [
    "for cat in ['main', 'side', 'dip', 'drink', 'other']:\n",
    "    print(f\"\\n🔹 {cat.upper()} items:\")\n",
    "    items = [item for item, tag in item_type_dict.items() if tag == cat]\n",
    "    print(items[:5])"
   ]
  },
  {
   "cell_type": "code",
   "execution_count": 277,
   "id": "b422bd0d",
   "metadata": {},
   "outputs": [
    {
     "data": {
      "text/plain": [
       "['Bottled Sparkling Water',\n",
       " 'Plastic Fork',\n",
       " 'Plastic Knife',\n",
       " 'Extra Sauce',\n",
       " 'Unavailable Item',\n",
       " 'Ketchup Pack',\n",
       " '25 pc Game Day Pack',\n",
       " 'Seasoning Pack',\n",
       " 'Delivery Fee',\n",
       " 'Bottled Water',\n",
       " 'Bottled Beverage',\n",
       " 'Plastic Utensils',\n",
       " 'Plastic Straw']"
      ]
     },
     "execution_count": 277,
     "metadata": {},
     "output_type": "execute_result"
    }
   ],
   "source": [
    "[item for item in item_type_dict if item_type_dict[item] == \"other\"]"
   ]
  },
  {
   "cell_type": "code",
   "execution_count": 278,
   "id": "906b1add",
   "metadata": {},
   "outputs": [],
   "source": [
    "#Using Item Categories in Co-occurrence Recommendations\n",
    "def summarize_cart_types(cart_items, item_type_dict):\n",
    "    type_counter = Counter()\n",
    "    for item in cart_items:\n",
    "        item_type = item_type_dict.get(item, \"other\")\n",
    "        type_counter[item_type] += 1\n",
    "    return type_counter"
   ]
  },
  {
   "cell_type": "code",
   "execution_count": 279,
   "id": "cfae2532",
   "metadata": {},
   "outputs": [
    {
     "data": {
      "text/plain": [
       "Counter({'dip': 1, 'main': 1, 'drink': 1})"
      ]
     },
     "execution_count": 279,
     "metadata": {},
     "output_type": "execute_result"
    }
   ],
   "source": [
    "# Example cart\n",
    "sample_cart = ['Ranch Dip - Regular', '10 pc Grilled Wings Combo', '20 Oz Soda']\n",
    "summarize_cart_types(sample_cart, item_type_dict)"
   ]
  },
  {
   "cell_type": "code",
   "execution_count": 280,
   "id": "3a6c1b0e",
   "metadata": {},
   "outputs": [],
   "source": [
    "#Smart Recommendations Using Item Categories\n",
    "\n",
    "\n",
    "def recommend_balanced_from_cart(cart_items, co_dict, item_type_dict, top_n=3):\n",
    "    from collections import defaultdict, Counter\n",
    "\n",
    "    # Tracking what's already in the cart\n",
    "    cart_types = Counter(item_type_dict.get(item, \"other\") for item in cart_items)\n",
    "\n",
    "    # Co-occurrence scoring\n",
    "    score_counter = defaultdict(int)\n",
    "    for item in cart_items:\n",
    "        if item in co_dict:\n",
    "            for co_item, count in co_dict[item].items():\n",
    "                if co_item not in cart_items:\n",
    "                    score_counter[co_item] += count\n",
    "\n",
    "    # Sorting by co-occurrence score\n",
    "    sorted_items = sorted(score_counter.items(), key=lambda x: x[1], reverse=True)\n",
    "\n",
    "    # Building balanced recommendation list\n",
    "    recommendations = []\n",
    "    seen_types = set(cart_types)\n",
    "\n",
    "    for item, _ in sorted_items:\n",
    "        item_type = item_type_dict.get(item, \"other\")\n",
    "        if item_type not in seen_types:\n",
    "            recommendations.append(item)\n",
    "            seen_types.add(item_type)\n",
    "        if len(recommendations) == top_n:\n",
    "            break\n",
    "\n",
    "    return recommendations\n"
   ]
  },
  {
   "cell_type": "code",
   "execution_count": 281,
   "id": "497eb58d",
   "metadata": {},
   "outputs": [
    {
     "data": {
      "text/plain": [
       "['Regular Buffalo Fries', '25 pc Game Day Pack']"
      ]
     },
     "execution_count": 281,
     "metadata": {},
     "output_type": "execute_result"
    }
   ],
   "source": [
    "sample_cart = ['Ranch Dip - Regular', '10 pc Grilled Wings Combo', '20 Oz Soda']\n",
    "recommend_balanced_from_cart(sample_cart, co_occurrence_dict, item_type_dict)"
   ]
  },
  {
   "cell_type": "code",
   "execution_count": 282,
   "id": "b7758f31",
   "metadata": {},
   "outputs": [
    {
     "name": "stdout",
     "output_type": "stream",
     "text": [
      "\n",
      " Cart A – Only Main:\n",
      "Cart: ['10 pc Grilled Wings Combo']\n",
      "Recommendations: ['Ranch Dip - Regular', 'Fried Corn - Regular', '20 Oz Soda']\n",
      "\n",
      " Cart B – Only Drink:\n",
      "Cart: ['20 Oz Soda']\n",
      "Recommendations: ['20pc Spicy Feast Deal', 'Ranch Dip - Regular', 'Regular Buffalo Fries']\n",
      "\n",
      " Cart C – Main + Side:\n",
      "Cart: ['6 pc Crispy Strips Combo', 'Fried Corn - Regular']\n",
      "Recommendations: ['Ranch Dip - Regular', '20pc Spicy Feast Deal', '20 Oz Soda']\n",
      "\n",
      " Cart D – All Types:\n",
      "Cart: ['15 pc Spicy Wings', 'Ranch Dip - Regular', '20 Oz Soda', 'Large Buffalo Fries']\n",
      "Recommendations: ['25 pc Game Day Pack']\n",
      "\n",
      " Cart E – Only Dip:\n",
      "Cart: ['Ranch Dip - Regular']\n",
      "Recommendations: ['10 pc Grilled Wings Combo', 'Regular Buffalo Fries', '20 Oz Soda']\n",
      "\n",
      " Cart F – Main + Drink:\n",
      "Cart: ['Legendary Feast Bundle', 'Can Soda']\n",
      "Recommendations: ['Regular Buffalo Fries', 'Ranch Dip - Regular', '25 pc Game Day Pack']\n"
     ]
    }
   ],
   "source": [
    "carts_to_test = {\n",
    "    \"Cart A – Only Main\": ['10 pc Grilled Wings Combo'],\n",
    "    \"Cart B – Only Drink\": ['20 Oz Soda'],\n",
    "    \"Cart C – Main + Side\": ['6 pc Crispy Strips Combo', 'Fried Corn - Regular'],\n",
    "    \"Cart D – All Types\": ['15 pc Spicy Wings', 'Ranch Dip - Regular', '20 Oz Soda', 'Large Buffalo Fries'],\n",
    "    \"Cart E – Only Dip\": ['Ranch Dip - Regular'],\n",
    "    \"Cart F – Main + Drink\": ['Legendary Feast Bundle', 'Can Soda']\n",
    "}\n",
    "\n",
    "for label, items in carts_to_test.items():\n",
    "    print(f\"\\n {label}:\")\n",
    "    print(\"Cart:\", items)\n",
    "    recs = recommend_balanced_from_cart(items, co_occurrence_dict, item_type_dict)\n",
    "    print(\"Recommendations:\", recs)"
   ]
  },
  {
   "cell_type": "code",
   "execution_count": 283,
   "id": "6ffcf49c",
   "metadata": {},
   "outputs": [],
   "source": [
    "# PHASE 2.2: Enhancing Recommendation with Type Awareness and Fallbacks\n",
    "\n",
    "\n",
    "#\"\"\"\n",
    "#This function enhances recommendations by:\n",
    "#- Using co-occurrence scores\n",
    "#- Softly boosting missing item types\n",
    "#- Respecting business constraints (e.g., blacklist)\n",
    "#- Providing diverse item types in the output\n",
    "#\"\"\"\n"
   ]
  },
  {
   "cell_type": "code",
   "execution_count": 284,
   "id": "a9dbca75",
   "metadata": {},
   "outputs": [],
   "source": [
    "from collections import defaultdict, Counter\n",
    "\n",
    "# Blacklisting of items we never want to recommend\n",
    "blacklist_items = set([\n",
    "    \"Plastic Fork\", \"Plastic Knife\", \"Plastic Straw\", \"Plastic Utensils\",\n",
    "    \"Delivery Fee\", \"Unavailable Item\", \"Ketchup Pack\", \"Seasoning Pack\",\n",
    "    \"Extra Sauce\"\n",
    "])\n",
    "\n",
    "# Most common fallback items by category (can be updated later based on the data)\n",
    "fallbacks_by_type = {\n",
    "    'main': '10 pc Grilled Wings Combo',\n",
    "    'side': 'Regular Buffalo Fries',\n",
    "    'dip': 'Ranch Dip - Regular',\n",
    "    'drink': '20 Oz Soda'\n",
    "}\n",
    "\n",
    "def enhanced_recommend_from_cart(cart_items, co_dict, item_type_dict, top_n=3, boost_factor=1.2):\n",
    "    if not cart_items:\n",
    "        # Fallback recommendation for empty cart\n",
    "        return [fallbacks_by_type[t] for t in ['main', 'side', 'drink']]\n",
    "\n",
    "    score_counter = defaultdict(float)\n",
    "    cart_type_counts = Counter([item_type_dict.get(item, \"other\") for item in cart_items])\n",
    "\n",
    "    for item in cart_items:\n",
    "        if item in co_dict:\n",
    "            for co_item, count in co_dict[item].items():\n",
    "                if co_item in cart_items or co_item in blacklist_items:\n",
    "                    continue  # Skipping existing items and blacklisted ones\n",
    "\n",
    "                item_type = item_type_dict.get(co_item, \"other\")\n",
    "\n",
    "                # Soft boost for underrepresented types\n",
    "                if cart_type_counts.get(item_type, 0) == 0:\n",
    "                    score_counter[co_item] += count * boost_factor\n",
    "                else:\n",
    "                    score_counter[co_item] += count\n",
    "\n",
    "    # Sorting by score\n",
    "    sorted_items = sorted(score_counter.items(), key=lambda x: x[1], reverse=True)\n",
    "\n",
    "    # Final selection which contain no duplicate types\n",
    "    seen_types = set()\n",
    "    final_recs = []\n",
    "    for item, _ in sorted_items:\n",
    "        item_type = item_type_dict.get(item, \"other\")\n",
    "        if item_type not in seen_types:\n",
    "            final_recs.append(item)\n",
    "            seen_types.add(item_type)\n",
    "        if len(final_recs) == top_n:\n",
    "            break\n",
    "\n",
    "    return final_recs\n"
   ]
  },
  {
   "cell_type": "code",
   "execution_count": 285,
   "id": "79c9550b",
   "metadata": {},
   "outputs": [
    {
     "name": "stdout",
     "output_type": "stream",
     "text": [
      " Enhanced Smart Recommendations\n",
      "----------------------------------------\n",
      "Only Main:\n",
      "Cart: ['10 pc Grilled Wings Combo']\n",
      "Recs: ['Ranch Dip - Regular', '2 pc Crispy Strips', 'Fried Corn - Regular']\n",
      "\n",
      "Only Drink:\n",
      "Cart: ['20 Oz Soda']\n",
      "Recs: ['20pc Spicy Feast Deal', 'Ranch Dip - Regular', 'Regular Buffalo Fries']\n",
      "\n",
      "Main + Side:\n",
      "Cart: ['6 pc Crispy Strips Combo', 'Fried Corn - Regular']\n",
      "Recs: ['Ranch Dip - Regular', '20pc Spicy Feast Deal', 'Regular Buffalo Fries']\n",
      "\n",
      "All Types:\n",
      "Cart: ['15 pc Spicy Wings', 'Ranch Dip - Regular', '20 Oz Soda', 'Large Buffalo Fries']\n",
      "Recs: ['Regular Buffalo Fries', '10 pc Grilled Wings Combo', 'Ranch Dip - Large']\n",
      "\n",
      "Only Dip:\n",
      "Cart: ['Ranch Dip - Regular']\n",
      "Recs: ['10 pc Grilled Wings Combo', 'Regular Buffalo Fries', 'Dipping Sauce']\n",
      "\n",
      "Main + Drink:\n",
      "Cart: ['Legendary Feast Bundle', 'Can Soda']\n",
      "Recs: ['Regular Buffalo Fries', 'Ranch Dip - Regular', '20pc Spicy Feast Deal']\n",
      "\n",
      "Only Dips (Multiple):\n",
      "Cart: ['Ranch Dip - Regular', 'Honey Mustard Dip - Regular']\n",
      "Recs: ['10 pc Grilled Wings Combo', 'Regular Buffalo Fries', 'Dipping Sauce']\n",
      "\n",
      "Only Drinks (Multiple):\n",
      "Cart: ['Can Soda', 'Sports Drink', 'Bottled Cream Soda']\n",
      "Recs: ['Ranch Dip - Regular', '10 pc Grilled Wings', '20 Oz Soda']\n",
      "\n",
      "Only Side:\n",
      "Cart: ['Large Buffalo Fries']\n",
      "Recs: ['Ranch Dip - Regular', '20pc Spicy Feast Deal', 'Fried Corn - Large']\n",
      "\n",
      "Empty Cart:\n",
      "Cart: []\n",
      "Recs: ['10 pc Grilled Wings Combo', 'Regular Buffalo Fries', '20 Oz Soda']\n",
      "\n"
     ]
    }
   ],
   "source": [
    "sample_carts = {\n",
    "    \"Only Main\": ['10 pc Grilled Wings Combo'],\n",
    "    \"Only Drink\": ['20 Oz Soda'],\n",
    "    \"Main + Side\": ['6 pc Crispy Strips Combo', 'Fried Corn - Regular'],\n",
    "    \"All Types\": ['15 pc Spicy Wings', 'Ranch Dip - Regular', '20 Oz Soda', 'Large Buffalo Fries'],\n",
    "    \"Only Dip\": ['Ranch Dip - Regular'],\n",
    "    \"Main + Drink\": ['Legendary Feast Bundle', 'Can Soda'],\n",
    "    \"Only Dips (Multiple)\": ['Ranch Dip - Regular', 'Honey Mustard Dip - Regular'],\n",
    "    \"Only Drinks (Multiple)\": ['Can Soda', 'Sports Drink', 'Bottled Cream Soda'],\n",
    "    \"Only Side\": ['Large Buffalo Fries'],\n",
    "    \"Empty Cart\": []\n",
    "}\n",
    "\n",
    "print(\" Enhanced Smart Recommendations\\n\" + \"-\" * 40)\n",
    "for label, cart in sample_carts.items():\n",
    "    recs = enhanced_recommend_from_cart(cart, co_occurrence_dict, item_type_dict)\n",
    "    print(f\"{label}:\\nCart: {cart}\\nRecs: {recs}\\n\")"
   ]
  },
  {
   "cell_type": "code",
   "execution_count": 286,
   "id": "316f550d",
   "metadata": {},
   "outputs": [],
   "source": [
    "from collections import defaultdict, Counter\n",
    "\n",
    "def smart_recommend_with_scores(cart_items, co_dict, item_type_dict, top_n=3, boost_factor=1.2, blacklist_items=None):\n",
    "    if blacklist_items is None:\n",
    "        blacklist_items = set([\n",
    "            'Plastic Fork', 'Plastic Knife', 'Plastic Straw', 'Plastic Utensils',\n",
    "            'Ketchup Pack', 'Seasoning Pack', 'Extra Sauce',\n",
    "            'Unavailable Item', 'Delivery Fee'\n",
    "        ])\n",
    "\n",
    "    score_counter = defaultdict(float)\n",
    "    cart_type_counts = Counter([item_type_dict.get(item, \"other\") for item in cart_items])\n",
    "\n",
    "    for item in cart_items:\n",
    "        if item in co_dict:\n",
    "            for co_item, count in co_dict[item].items():\n",
    "                if co_item in cart_items or co_item in blacklist_items:\n",
    "                    continue\n",
    "                item_type = item_type_dict.get(co_item, \"other\")\n",
    "                if cart_type_counts.get(item_type, 0) == 0:\n",
    "                    score_counter[co_item] += count * boost_factor\n",
    "                else:\n",
    "                    score_counter[co_item] += count\n",
    "\n",
    "    sorted_items = sorted(score_counter.items(), key=lambda x: x[1], reverse=True)\n",
    "    return sorted_items[:top_n]  # returns (item, score) tuples"
   ]
  },
  {
   "cell_type": "code",
   "execution_count": 287,
   "id": "7c2b9c4e",
   "metadata": {},
   "outputs": [
    {
     "name": "stdout",
     "output_type": "stream",
     "text": [
      "Cart: ['10 pc Grilled Wings Combo']\n",
      "Recommendations with Confidence Scores:\n",
      "→ Ranch Dip - Regular (Confidence: 55614.00)\n",
      "→ 2 pc Crispy Strips (Confidence: 11575.00)\n",
      "→ 8 pc Grilled Wings Combo (Confidence: 11412.00)\n"
     ]
    }
   ],
   "source": [
    "sample_cart = ['10 pc Grilled Wings Combo']\n",
    "recommendations = smart_recommend_with_scores(sample_cart, co_occurrence_dict, item_type_dict)\n",
    "\n",
    "print(\"Cart:\", sample_cart)\n",
    "print(\"Recommendations with Confidence Scores:\")\n",
    "for item, score in recommendations:\n",
    "    print(f\"→ {item} (Confidence: {score:.2f})\")"
   ]
  },
  {
   "cell_type": "code",
   "execution_count": 288,
   "id": "60a55b63",
   "metadata": {},
   "outputs": [
    {
     "name": "stdout",
     "output_type": "stream",
     "text": [
      "['CUSTOMER_ID', 'STORE_NUMBER', 'ORDER_CREATED_DATE', 'ORDER_ID', 'ORDERS', 'ORDER_CHANNEL_NAME', 'ORDER_SUBCHANNEL_NAME', 'ORDER_OCCASION_NAME', 'ITEM_LIST']\n"
     ]
    }
   ],
   "source": [
    "print(order_df.columns.tolist())"
   ]
  },
  {
   "cell_type": "code",
   "execution_count": 289,
   "id": "ce6c9a31",
   "metadata": {},
   "outputs": [
    {
     "name": "stdout",
     "output_type": "stream",
     "text": [
      "Unique Occasions in the Dataset:\n",
      "ORDER_OCCASION_NAME\n",
      "ToGo        1214921\n",
      "Delivery     199489\n",
      "Name: count, dtype: int64\n"
     ]
    }
   ],
   "source": [
    "# Showing unique occasions and their counts\n",
    "occasion_counts = order_df['ORDER_OCCASION_NAME'].value_counts()\n",
    "print(\"Unique Occasions in the Dataset:\")\n",
    "print(occasion_counts)"
   ]
  },
  {
   "cell_type": "code",
   "execution_count": 290,
   "id": "a1b64a0b",
   "metadata": {},
   "outputs": [],
   "source": [
    "from collections import defaultdict\n",
    "import itertools\n",
    "\n",
    "# Initializing dictionaries\n",
    "co_dict_by_occasion = {\n",
    "    'ToGo': defaultdict(Counter),\n",
    "    'Delivery': defaultdict(Counter)\n",
    "}\n",
    "\n",
    "# Iterating through rows and build matrices\n",
    "for _, row in order_df.iterrows():\n",
    "    items = row['ITEM_LIST']\n",
    "    occasion = row['ORDER_OCCASION_NAME']\n",
    "    \n",
    "    if occasion not in co_dict_by_occasion:\n",
    "        continue\n",
    "    \n",
    "    # Counting co-occurrence pairs\n",
    "    for item_a, item_b in itertools.combinations(set(items), 2):\n",
    "        co_dict_by_occasion[occasion][item_a][item_b] += 1\n",
    "        co_dict_by_occasion[occasion][item_b][item_a] += 1"
   ]
  },
  {
   "cell_type": "code",
   "execution_count": 291,
   "id": "4e18fd72",
   "metadata": {},
   "outputs": [
    {
     "data": {
      "text/plain": [
       "Counter({'10 pc Grilled Wings Combo': 6658,\n",
       "         'Regular Buffalo Fries': 6296,\n",
       "         '10 pc Grilled Wings': 5507,\n",
       "         '10 pc Spicy Wings': 4268,\n",
       "         '8 pc Grilled Wings Combo': 4144,\n",
       "         '20pc Spicy Feast Deal': 4093,\n",
       "         '6 pc Grilled Wings Combo': 3395,\n",
       "         '2 pc Crispy Strips': 3370,\n",
       "         'Fried Corn - Regular': 2979,\n",
       "         '15 pc Grilled Wings': 2910,\n",
       "         'Large Buffalo Fries': 2894,\n",
       "         '10 pc Spicy Wings Combo': 2454,\n",
       "         '20 pc Grilled Wings': 2397,\n",
       "         '8 pc Spicy Wings Combo': 2352,\n",
       "         '6 pc Spicy Wings Combo': 2297,\n",
       "         'Dipping Sauce': 2198,\n",
       "         'Blue Cheese Dip - Regular': 1694,\n",
       "         'Veggie Sticks Spicy': 1650,\n",
       "         'Add 5 Spicy Wings': 1587,\n",
       "         '5 pc Crispy Strips Combo': 1585,\n",
       "         '15 pc Spicy Wings': 1564,\n",
       "         'Chicken Sub': 1507,\n",
       "         'Add 5 Grilled Wings': 1500,\n",
       "         '3 pc Crispy Strips Combo': 1469,\n",
       "         'Ranch Dip - Large': 1373,\n",
       "         'Fried Corn - Large': 1371,\n",
       "         'Chicken Sub Combo': 1330,\n",
       "         '4 pc Crispy Strips': 1130,\n",
       "         '15 pc Grilled Wings Combo': 1042,\n",
       "         '32 Oz Soda': 918,\n",
       "         'Voodoo Fries - Regular': 914,\n",
       "         '20 Oz Soda': 812,\n",
       "         'Large Veggie Sticks Spicy': 788,\n",
       "         'Honey Mustard Dip - Regular': 737,\n",
       "         'Cheese Dip - Regular': 700,\n",
       "         '7 pc Crispy Strips': 688,\n",
       "         'Flavor Platter': 687,\n",
       "         '10 pc Mixed Wings Combo': 659,\n",
       "         'Triple Chocolate Cake': 621,\n",
       "         '30 pc Grilled Wings': 608,\n",
       "         'Veggie Sticks': 608,\n",
       "         '25 pc Game Day Pack': 551,\n",
       "         '20 pc Spicy Wings': 529,\n",
       "         'Cheese Dip - Medium': 514,\n",
       "         '10 pc Mixed Wings': 449,\n",
       "         'Cheese Fries - Regular': 429,\n",
       "         '30 pc Family Grilled Wings': 417,\n",
       "         '8 pc Mixed Wings Combo': 392,\n",
       "         '20 pc Mixed Wings': 364,\n",
       "         'Voodoo Fries - Large': 351,\n",
       "         'Carrot Sticks': 309,\n",
       "         '24 pc Family Grilled Wings': 306,\n",
       "         'Buffalo Fries': 281,\n",
       "         '15 pc Mixed Wings': 250,\n",
       "         'Large Fruit Punch': 234,\n",
       "         '3 Strips Lunch': 228,\n",
       "         'Cheese Fries - Large': 225,\n",
       "         '6 pc Mixed Wings Combo': 204,\n",
       "         'Celery Sticks': 184,\n",
       "         '15 pc Spicy Wings Combo': 167,\n",
       "         '15 pc Mixed Wings Combo': 167,\n",
       "         '30 pc Family Mixed Wings': 156,\n",
       "         '8 pc Crispy Strips Combo': 153,\n",
       "         '6 pc Strips Meal for 2': 152,\n",
       "         '30 pc Spicy Wings': 146,\n",
       "         '50 pc Grilled Wings': 144,\n",
       "         'Blue Cheese Dip - Large': 143,\n",
       "         'Wings Lunch Combo': 139,\n",
       "         '40 pc Family Grilled Wings': 119,\n",
       "         'Large Veggie Sticks': 115,\n",
       "         '50 pc Family Grilled Wings': 115,\n",
       "         'Legendary Feast Bundle': 111,\n",
       "         '30 pc Mixed Wings': 110,\n",
       "         '15 pc Crispy Strips': 103,\n",
       "         '30 pc Family Spicy Wings': 98,\n",
       "         '24 pc Family Mixed Wings': 90,\n",
       "         'Hot Honey Strips 3pc': 89,\n",
       "         'Cheese Dip - Large': 75,\n",
       "         '50 pc Family Mixed Wings': 65,\n",
       "         'Plastic Utensils': 60,\n",
       "         'Plastic Fork': 50,\n",
       "         '50 pc Spicy Wings': 45,\n",
       "         'Honey Mustard Dip - Large': 43,\n",
       "         '50 pc Mixed Wings': 41,\n",
       "         'Large Carrot Sticks': 41,\n",
       "         'Flavor Platter Grilled': 40,\n",
       "         'Ketchup Pack': 39,\n",
       "         '75 pc Grilled Wings': 38,\n",
       "         '40 pc Family Mixed Wings': 38,\n",
       "         '40 pc Family Spicy Wings': 37,\n",
       "         '50 pc Family Spicy Wings': 34,\n",
       "         '20 pc Crispy Strips': 31,\n",
       "         'Plastic Straw': 31,\n",
       "         '100 pc Grilled Wings': 30,\n",
       "         '24 pc Family Spicy Wings': 29,\n",
       "         'Large Celery Sticks': 27,\n",
       "         '75 pc Family Grilled Wings': 22,\n",
       "         'Grilled Lunch Combo': 22,\n",
       "         '100 pc Family Grilled Wings': 20,\n",
       "         '75 pc Mixed Wings': 18,\n",
       "         '100 pc Family Spicy Wings': 14,\n",
       "         '30 pc Crispy Strips': 13,\n",
       "         '75 pc Spicy Wings': 12,\n",
       "         '75 pc Family Mixed Wings': 12,\n",
       "         'Bottled Water': 10,\n",
       "         '100 pc Spicy Wings': 10,\n",
       "         'Plastic Knife': 10,\n",
       "         '8pc Grilled Box': 10,\n",
       "         '100 pc Mixed Wings': 8,\n",
       "         '8pc Wings Box': 7,\n",
       "         '100 pc Family Mixed Wings': 6,\n",
       "         'Triple Feast Deal': 5,\n",
       "         '75 pc Family Spicy Wings': 4,\n",
       "         '3pc Strips Box': 4,\n",
       "         'Sub Box': 3})"
      ]
     },
     "execution_count": 291,
     "metadata": {},
     "output_type": "execute_result"
    }
   ],
   "source": [
    "# Example: Most paired items with 'Ranch Dip - Regular' in ToGo\n",
    "co_dict_by_occasion['ToGo']['Ranch Dip - Regular']\n",
    "\n",
    "# Example: Most paired items with 'Ranch Dip - Regular' in Delivery\n",
    "co_dict_by_occasion['Delivery']['Ranch Dip - Regular']"
   ]
  },
  {
   "cell_type": "code",
   "execution_count": 292,
   "id": "07e5fd2c",
   "metadata": {},
   "outputs": [],
   "source": [
    "def smart_recommend_from_cart_with_occasion(\n",
    "    cart_items, \n",
    "    co_dict_general, \n",
    "    co_dict_by_occasion,\n",
    "    item_type_dict,\n",
    "    occasion=None,\n",
    "    top_n=3,\n",
    "    boost_factor=1.2,\n",
    "    blacklist_items=None\n",
    "):\n",
    "    from collections import defaultdict, Counter\n",
    "\n",
    "    if blacklist_items is None:\n",
    "        blacklist_items = {'Plastic Fork', 'Plastic Knife', 'Plastic Spoon',\n",
    "                           'Plastic Straw', 'Plastic Utensils', 'Delivery Fee',\n",
    "                           'Unavailable Item', 'Seasoning Pack'}\n",
    "\n",
    "    score_counter = defaultdict(float)\n",
    "\n",
    "    # Using occasion-specific co-occurrence matrix if available\n",
    "    co_dict = co_dict_by_occasion.get(occasion, co_dict_general)\n",
    "\n",
    "    # Counting types in cart\n",
    "    cart_type_counts = Counter([item_type_dict.get(item, \"other\") for item in cart_items])\n",
    "\n",
    "    for item in cart_items:\n",
    "        if item in co_dict:\n",
    "            for co_item, count in co_dict[item].items():\n",
    "                if co_item in cart_items or co_item in blacklist_items:\n",
    "                    continue\n",
    "                item_type = item_type_dict.get(co_item, \"other\")\n",
    "                if cart_type_counts.get(item_type, 0) == 0:\n",
    "                    score_counter[co_item] += count * boost_factor\n",
    "                score_counter[co_item] += count\n",
    "\n",
    "    # Sorting and returning with confidence scores\n",
    "    sorted_items = sorted(score_counter.items(), key=lambda x: x[1], reverse=True)\n",
    "    return [(item, round(score, 2)) for item, score in sorted_items[:top_n]]\n"
   ]
  },
  {
   "cell_type": "code",
   "execution_count": 293,
   "id": "0fde79ea",
   "metadata": {},
   "outputs": [
    {
     "data": {
      "text/plain": [
       "[('10 pc Grilled Wings Combo', 89617.0),\n",
       " ('Regular Buffalo Fries', 85100.4),\n",
       " ('10 pc Grilled Wings', 75585.4)]"
      ]
     },
     "execution_count": 293,
     "metadata": {},
     "output_type": "execute_result"
    }
   ],
   "source": [
    "sample_cart = ['Ranch Dip - Regular', '20 Oz Soda']\n",
    "smart_recommend_from_cart_with_occasion(\n",
    "    sample_cart,\n",
    "    co_occurrence_dict,\n",
    "    co_dict_by_occasion,\n",
    "    item_type_dict,\n",
    "    occasion=\"ToGo\"  # trying also with \"Delivery\" or None\n",
    ")\n"
   ]
  },
  {
   "cell_type": "code",
   "execution_count": 294,
   "id": "0d04852a",
   "metadata": {},
   "outputs": [],
   "source": [
    "#Fallback Logic - Why?\n",
    "#Even the best recommender fails if:\n",
    "#A cart has rare or new items (no co-occurrence entries).\n",
    "\n",
    "#Some items are completely unseen.\n",
    "#The entire cart is empty.\n",
    "#So, we’ll ensure recommendations still work gracefully by introducing fallback strategies."
   ]
  },
  {
   "cell_type": "code",
   "execution_count": 295,
   "id": "91524d33",
   "metadata": {},
   "outputs": [],
   "source": [
    "from collections import defaultdict, Counter"
   ]
  },
  {
   "cell_type": "code",
   "execution_count": 296,
   "id": "8230ba8c",
   "metadata": {},
   "outputs": [],
   "source": [
    "# Counting frequency of each item across dataset\n",
    "item_freq = Counter([item for sublist in order_df['ITEM_LIST'] for item in sublist])"
   ]
  },
  {
   "cell_type": "code",
   "execution_count": 297,
   "id": "e5dc36cd",
   "metadata": {},
   "outputs": [],
   "source": [
    "# Grouping by type\n",
    "popular_by_type = defaultdict(list)"
   ]
  },
  {
   "cell_type": "code",
   "execution_count": 298,
   "id": "1666335e",
   "metadata": {},
   "outputs": [],
   "source": [
    "for item, freq in item_freq.items():\n",
    "    tag = item_type_dict.get(item, 'other')\n",
    "    popular_by_type[tag].append((item, freq))\n",
    "\n",
    "# Sorting within each category\n",
    "for tag in popular_by_type:\n",
    "    popular_by_type[tag] = sorted(popular_by_type[tag], key=lambda x: -x[1])"
   ]
  },
  {
   "cell_type": "code",
   "execution_count": 299,
   "id": "d9b4bad5",
   "metadata": {},
   "outputs": [
    {
     "name": "stdout",
     "output_type": "stream",
     "text": [
      "\n",
      "🔹 Top MAIN items:\n",
      "20pc Spicy Feast Deal (268020 orders)\n",
      "10 pc Grilled Wings Combo (166703 orders)\n",
      "6 pc Grilled Wings Combo (117924 orders)\n",
      "\n",
      "🔹 Top DIP items:\n",
      "Ranch Dip - Regular (303183 orders)\n",
      "Ranch Dip - Large (80618 orders)\n",
      "Dipping Sauce (41998 orders)\n",
      "\n",
      "🔹 Top SIDE items:\n",
      "Regular Buffalo Fries (100150 orders)\n",
      "Large Buffalo Fries (60091 orders)\n",
      "Fried Corn - Regular (58584 orders)\n",
      "\n",
      "🔹 Top DRINK items:\n",
      "32 Oz Soda (21960 orders)\n",
      "20 Oz Soda (21384 orders)\n",
      "Large Fruit Punch (6213 orders)\n"
     ]
    }
   ],
   "source": [
    "from collections import defaultdict, Counter\n",
    "\n",
    "# Step 1: Flattening all items across orders\n",
    "all_items_flat = [item for sublist in order_df['ITEM_LIST'] for item in sublist]\n",
    "\n",
    "# Step 2: Counting frequency\n",
    "item_counts = Counter(all_items_flat)\n",
    "\n",
    "# Step 3: Organizing by type using our existing item_type_dict\n",
    "top_items_by_type = defaultdict(list)\n",
    "\n",
    "for item, count in item_counts.items():\n",
    "    item_type = item_type_dict.get(item, \"other\")\n",
    "    if item_type in ['main', 'side', 'dip', 'drink']:\n",
    "        top_items_by_type[item_type].append((item, count))\n",
    "\n",
    "# Step 4: Sorting items within each type by frequency\n",
    "for item_type in top_items_by_type:\n",
    "    top_items_by_type[item_type].sort(key=lambda x: x[1], reverse=True)\n",
    "\n",
    "# Previewing top 3 from each\n",
    "for item_type in top_items_by_type:\n",
    "    print(f\"\\n🔹 Top {item_type.upper()} items:\")\n",
    "    for item, count in top_items_by_type[item_type][:3]:\n",
    "        print(f\"{item} ({count} orders)\")\n"
   ]
  },
  {
   "cell_type": "code",
   "execution_count": 300,
   "id": "b6814360",
   "metadata": {},
   "outputs": [],
   "source": [
    "from collections import defaultdict, Counter\n",
    "\n",
    "def smart_recommend_with_fallback(\n",
    "    cart_items,\n",
    "    co_dict,\n",
    "    item_type_dict,\n",
    "    top_items_by_type,\n",
    "    item_tags_dict,\n",
    "    blacklist_items=set(),\n",
    "    top_n=3,\n",
    "    boost_factor=1.2,\n",
    "    max_per_type=1\n",
    "):\n",
    "    score_counter = defaultdict(float)\n",
    "    cart_type_counts = Counter([item_type_dict.get(item, \"other\") for item in cart_items])\n",
    "    used_type_counts = defaultdict(int)\n",
    "\n",
    "    # Detecting cart context\n",
    "    is_veg_cart = all('veg' in item_tags_dict.get(item, set()) for item in cart_items)\n",
    "    cart_types = set([item_type_dict.get(item, \"other\") for item in cart_items])\n",
    "    only_dip_cart = cart_types == {\"dip\"}\n",
    "\n",
    "    # Step 1: Scoring with soft bias\n",
    "    for item in cart_items:\n",
    "        if item not in co_dict:\n",
    "            continue\n",
    "        for co_item, count in co_dict[item].items():\n",
    "            if co_item in cart_items or co_item in blacklist_items:\n",
    "                continue\n",
    "            item_type = item_type_dict.get(co_item, \"other\")\n",
    "            if cart_type_counts.get(item_type, 0) == 0:\n",
    "                if item_type == \"drink\":\n",
    "                    score_counter[co_item] += count * (boost_factor * 1.5)\n",
    "                else:\n",
    "                    score_counter[co_item] += count * boost_factor\n",
    "            else:\n",
    "                score_counter[co_item] += count\n",
    "\n",
    "    # Step 2: Top-N from score (1 per type)\n",
    "    sorted_items = sorted(score_counter.items(), key=lambda x: x[1], reverse=True)\n",
    "    recommended = []\n",
    "\n",
    "    for item, score in sorted_items:\n",
    "        item_type = item_type_dict.get(item, \"other\")\n",
    "        if used_type_counts[item_type] >= max_per_type:\n",
    "            continue\n",
    "        if is_veg_cart and 'non-veg' in item_tags_dict.get(item, set()):\n",
    "            continue\n",
    "        recommended.append((item, round(score, 2)))\n",
    "        used_type_counts[item_type] += 1\n",
    "        if len(recommended) >= top_n:\n",
    "            break\n",
    "\n",
    "    # Step 3: Smart fallback\n",
    "    if len(recommended) < top_n:\n",
    "        cart_tags = set()\n",
    "        for item in cart_items:\n",
    "            cart_tags.update(item_tags_dict.get(item, set()))\n",
    "\n",
    "        fallback_priority = ['main', 'side', 'dip', 'drink']\n",
    "        if only_dip_cart:\n",
    "            fallback_priority = ['drink', 'dessert', 'side']\n",
    "\n",
    "        for mtype in fallback_priority:\n",
    "            if used_type_counts[mtype] >= max_per_type:\n",
    "                continue\n",
    "            for fallback_item, _ in top_items_by_type.get(mtype, []):\n",
    "                if (\n",
    "                    fallback_item in cart_items or\n",
    "                    fallback_item in [r[0] for r in recommended] or\n",
    "                    fallback_item in blacklist_items\n",
    "                ):\n",
    "                    continue\n",
    "\n",
    "                tags = item_tags_dict.get(fallback_item, set())\n",
    "                if is_veg_cart and 'non-veg' in tags:\n",
    "                    continue\n",
    "                if 'spicy' in cart_tags and 'spicy' in tags:\n",
    "                    continue\n",
    "                if 'combo' in tags and len(cart_items) < 2:\n",
    "                    continue\n",
    "\n",
    "                recommended.append((fallback_item, 0))\n",
    "                used_type_counts[mtype] += 1\n",
    "                if len(recommended) >= top_n:\n",
    "                    break\n",
    "            if len(recommended) >= top_n:\n",
    "                break\n",
    "\n",
    "    return recommended\n"
   ]
  },
  {
   "cell_type": "code",
   "execution_count": 301,
   "id": "0b4bc973",
   "metadata": {},
   "outputs": [],
   "source": [
    "# Building a simple item_tags_dict using keywords\n",
    "import re\n",
    "item_tags_dict = {}\n",
    "\n",
    "for item in all_items:\n",
    "    tags = set()\n",
    "    name = item.lower()\n",
    "    \n",
    "    if \"veg\" in name:\n",
    "        tags.add(\"veg\")\n",
    "    if \"non-veg\" in name or \"chicken\" in name or \"wings\" in name or \"grilled\" in name or \"crispy\" in name:\n",
    "        tags.add(\"non-veg\")\n",
    "    if \"spicy\" in name:\n",
    "        tags.add(\"spicy\")\n",
    "    if \"combo\" in name or \"feast\" in name or \"meal\" in name:\n",
    "        tags.add(\"combo\")\n",
    "    \n",
    "    item_tags_dict[item] = tags"
   ]
  },
  {
   "cell_type": "code",
   "execution_count": 302,
   "id": "a6c805b8",
   "metadata": {},
   "outputs": [
    {
     "name": "stdout",
     "output_type": "stream",
     "text": [
      " Final Recommendations (with fallback):\n",
      "→ Ranch Dip - Regular (Confidence: 78466.80)\n",
      "→ 6 pc Grilled Wings Combo (Confidence: 16475.00)\n",
      "→ Regular Buffalo Fries (Confidence: 10442.00)\n"
     ]
    }
   ],
   "source": [
    "sample_cart = ['10 pc Grilled Wings Combo', 'Fried Corn - Regular']\n",
    "\n",
    "recs = smart_recommend_with_fallback(\n",
    "    sample_cart,\n",
    "    co_occurrence_dict,\n",
    "    item_type_dict,\n",
    "    top_items_by_type,\n",
    "    item_tags_dict  # this is essential\n",
    ")\n",
    "\n",
    "print(\" Final Recommendations (with fallback):\")\n",
    "for item, score in recs:\n",
    "    print(f\"→ {item} (Confidence: {score:.2f})\")"
   ]
  },
  {
   "cell_type": "code",
   "execution_count": 303,
   "id": "9d99ed21",
   "metadata": {},
   "outputs": [
    {
     "data": {
      "text/plain": [
       "[('Ranch Dip - Regular', 78466.8),\n",
       " ('6 pc Grilled Wings Combo', 16475.0),\n",
       " ('Regular Buffalo Fries', 10442.0)]"
      ]
     },
     "execution_count": 303,
     "metadata": {},
     "output_type": "execute_result"
    }
   ],
   "source": [
    "sample_cart = ['10 pc Grilled Wings Combo', 'Fried Corn - Regular']\n",
    "smart_recommend_with_fallback(sample_cart, co_occurrence_dict, item_type_dict, top_items_by_type, item_tags_dict)"
   ]
  },
  {
   "cell_type": "code",
   "execution_count": 304,
   "id": "4bee7137",
   "metadata": {},
   "outputs": [],
   "source": [
    "# Detecting rare or outlier carts\n",
    "def is_outlier_cart(cart_items, item_freq_dict, threshold=5):\n",
    "    if not cart_items:\n",
    "        return True  # Empty is outlier\n",
    "    rare_items = [item for item in cart_items if item_freq_dict.get(item, 0) < threshold]\n",
    "    return len(rare_items) == len(cart_items)"
   ]
  },
  {
   "cell_type": "code",
   "execution_count": 305,
   "id": "2ee372bd",
   "metadata": {},
   "outputs": [],
   "source": [
    "from collections import defaultdict, Counter\n",
    "\n",
    "def smart_recommend_with_fallback(cart_items, co_dict, item_type_dict, top_items_by_type,\n",
    "                                   item_tags_dict, blacklist_items=set(),\n",
    "                                   top_n=3, boost_factor=1.2, max_per_type=1):\n",
    "    \n",
    "    score_counter = defaultdict(float)\n",
    "    cart_type_counts = Counter([item_type_dict.get(item, \"other\") for item in cart_items])\n",
    "    cart_has_spicy = any('spicy' in item_tags_dict.get(item, set()) for item in cart_items)\n",
    "\n",
    "    # Step 1: Co-occurrence scoring with soft bias + spicy awareness\n",
    "    for item in cart_items:\n",
    "        if item in co_dict:\n",
    "            for co_item, count in co_dict[item].items():\n",
    "                if co_item in cart_items or co_item in blacklist_items:\n",
    "                    continue\n",
    "\n",
    "                item_type = item_type_dict.get(co_item, \"other\")\n",
    "                tags = item_tags_dict.get(co_item, set())\n",
    "\n",
    "                # Spicy-aware scoring\n",
    "                spicy_bonus = 0\n",
    "                if 'spicy' in tags and not cart_has_spicy:\n",
    "                    spicy_bonus = count * 0.3\n",
    "                elif 'spicy' in tags and cart_has_spicy:\n",
    "                    spicy_bonus = count * 0.1\n",
    "\n",
    "                # Soft bias boosting\n",
    "                if cart_type_counts.get(item_type, 0) == 0 and item_type == \"drink\":\n",
    "                    score_counter[co_item] += count * (boost_factor * 1.5) + spicy_bonus\n",
    "                elif cart_type_counts.get(item_type, 0) == 0:\n",
    "                    score_counter[co_item] += count * boost_factor + spicy_bonus\n",
    "                else:\n",
    "                    score_counter[co_item] += count + spicy_bonus\n",
    "\n",
    "    # Step 2: Sorting items by descending score\n",
    "    sorted_items = sorted(score_counter.items(), key=lambda x: x[1], reverse=True)\n",
    "\n",
    "    # Step 3: Top-N from scoring, limiting max items per type\n",
    "    recommended = []\n",
    "    used_type_counts = defaultdict(int)\n",
    "\n",
    "    for item, score in sorted_items:\n",
    "        item_type = item_type_dict.get(item, \"other\")\n",
    "\n",
    "        if used_type_counts[item_type] >= max_per_type:\n",
    "            continue  # Skipping if this type limit reached\n",
    "\n",
    "        recommended.append((item, score))\n",
    "        used_type_counts[item_type] += 1\n",
    "\n",
    "        if len(recommended) >= top_n:\n",
    "            break\n",
    "        cart_types = set([item_type_dict.get(item, \"other\") for item in cart_items])\n",
    "        only_dip_cart = cart_types == {\"dip\"}\n",
    "        fallback_priority = ['main', 'side', 'dip', 'drink']  # default\n",
    "\n",
    "        if only_dip_cart:\n",
    "            fallback_priority = ['drink', 'dessert', 'side']  # prioritizing better complements\n",
    "\n",
    "    # Step 4: Fallback logic to ensure diversity and fill gaps\n",
    "    if len(recommended) < top_n:\n",
    "        for mtype in ['main', 'side', 'dip', 'drink']:\n",
    "            if used_type_counts[mtype] < max_per_type:\n",
    "                for fallback_item, _ in top_items_by_type.get(mtype, []):\n",
    "                    if fallback_item not in cart_items and \\\n",
    "                       fallback_item not in [r[0] for r in recommended] and \\\n",
    "                       fallback_item not in blacklist_items:\n",
    "                        recommended.append((fallback_item, 0))\n",
    "                        used_type_counts[mtype] += 1\n",
    "                        if len(recommended) >= top_n:\n",
    "                            break\n",
    "            if len(recommended) >= top_n:\n",
    "                break\n",
    "\n",
    "    return recommended"
   ]
  },
  {
   "cell_type": "code",
   "execution_count": 306,
   "id": "dae3b038",
   "metadata": {},
   "outputs": [],
   "source": [
    "item_tags_dict = {\n",
    "    \"Celery Sticks\": {\"veg\"},\n",
    "    \"Chicken Sub Combo\": {\"combo\", \"non-veg\"},\n",
    "    \"24 pc Family Spicy Wings\": {\"spicy\", \"non-veg\"},\n",
    "    \"Honey Mustard Dip - Regular\": {\"non-veg\"},\n",
    "    \"32 Oz Soda\": {\"cold_drink\"},\n",
    "    \"Plastic Knife\": {\"non-food\"},\n",
    "    \"8 pc Grilled Wings Combo\": {\"combo\", \"non-veg\"},\n",
    "    \"Veggie Sticks Spicy\": {\"spicy\", \"veg\"},\n",
    "    \"Blue Cheese Dip - Large\": {\"non-veg\"},\n",
    "    \"Dipping Sauce\": {\"non-veg\"},\n",
    "    # We can add more items if needed from the item list\n",
    "}"
   ]
  },
  {
   "cell_type": "code",
   "execution_count": 307,
   "id": "27f1dfac",
   "metadata": {},
   "outputs": [
    {
     "name": "stdout",
     "output_type": "stream",
     "text": [
      " Final Recommendations (with fallback)\n",
      "--------------------------------------------------\n",
      " Only Main:\n",
      "Cart: ['10 pc Grilled Wings Combo']\n",
      "→ Ranch Dip - Regular (Confidence: 55614.00)\n",
      "→ 2 pc Crispy Strips (Confidence: 11575.00)\n",
      "→ Fried Corn - Regular (Confidence: 7690.80)\n",
      "--------------------------------------------------\n",
      " Only Drink:\n",
      "Cart: ['20 Oz Soda']\n",
      "→ 20pc Spicy Feast Deal (Confidence: 9768.00)\n",
      "→ Ranch Dip - Regular (Confidence: 6879.60)\n",
      "→ Regular Buffalo Fries (Confidence: 3930.00)\n",
      "--------------------------------------------------\n",
      " Main + Side:\n",
      "Cart: ['6 pc Crispy Strips Combo', 'Fried Corn - Regular']\n",
      "→ Ranch Dip - Regular (Confidence: 22852.80)\n",
      "→ 20pc Spicy Feast Deal (Confidence: 11751.60)\n",
      "→ Regular Buffalo Fries (Confidence: 5971.00)\n",
      "--------------------------------------------------\n",
      " All Types:\n",
      "Cart: ['15 pc Spicy Wings', 'Ranch Dip - Regular', '20 Oz Soda', 'Large Buffalo Fries']\n",
      "→ Regular Buffalo Fries (Confidence: 54487.00)\n",
      "→ 10 pc Grilled Wings Combo (Confidence: 50148.00)\n",
      "→ Ranch Dip - Large (Confidence: 22927.00)\n",
      "--------------------------------------------------\n",
      " Only Dip:\n",
      "Cart: ['Ranch Dip - Regular']\n",
      "→ 10 pc Grilled Wings Combo (Confidence: 55614.00)\n",
      "→ Regular Buffalo Fries (Confidence: 50575.20)\n",
      "→ Dipping Sauce (Confidence: 12924.00)\n",
      "--------------------------------------------------\n",
      " Main + Drink:\n",
      "Cart: ['Legendary Feast Bundle', 'Can Soda']\n",
      "→ Regular Buffalo Fries (Confidence: 2710.80)\n",
      "→ Ranch Dip - Regular (Confidence: 709.20)\n",
      "→ 20pc Spicy Feast Deal (Confidence: 649.00)\n",
      "--------------------------------------------------\n",
      " Only Drinks (Multiple):\n",
      "Cart: ['Can Soda', 'Sports Drink', 'Bottled Cream Soda']\n",
      "→ Ranch Dip - Regular (Confidence: 10.80)\n",
      "→ 10 pc Grilled Wings (Confidence: 3.60)\n",
      "→ 20 Oz Soda (Confidence: 2.00)\n",
      "--------------------------------------------------\n",
      " Main + 2 Sides:\n",
      "Cart: ['10 pc Spicy Wings', 'Fried Corn - Large', 'Regular Buffalo Fries']\n",
      "→ Ranch Dip - Regular (Confidence: 100165.20)\n",
      "→ 20pc Spicy Feast Deal (Confidence: 21590.00)\n",
      "→ Large Buffalo Fries (Confidence: 12939.00)\n",
      "--------------------------------------------------\n",
      " Drink + Dessert:\n",
      "Cart: ['Can Soda', 'Triple Chocolate Cake']\n",
      "→ Ranch Dip - Regular (Confidence: 3153.60)\n",
      "→ 20pc Spicy Feast Deal (Confidence: 2364.00)\n",
      "→ Regular Buffalo Fries (Confidence: 751.00)\n",
      "--------------------------------------------------\n",
      " Empty Cart:\n",
      "Cart: []\n",
      "→ 20pc Spicy Feast Deal (Confidence: 0.00)\n",
      "→ 10 pc Grilled Wings Combo (Confidence: 0.00)\n",
      "→ 6 pc Grilled Wings Combo (Confidence: 0.00)\n",
      "--------------------------------------------------\n"
     ]
    }
   ],
   "source": [
    "sample_carts = {\n",
    "    \"Only Main\": ['10 pc Grilled Wings Combo'],\n",
    "    \"Only Drink\": ['20 Oz Soda'],\n",
    "    \"Main + Side\": ['6 pc Crispy Strips Combo', 'Fried Corn - Regular'],\n",
    "    \"All Types\": ['15 pc Spicy Wings', 'Ranch Dip - Regular', '20 Oz Soda', 'Large Buffalo Fries'],\n",
    "    \"Only Dip\": ['Ranch Dip - Regular'],\n",
    "    \"Main + Drink\": ['Legendary Feast Bundle', 'Can Soda'],\n",
    "    \"Only Drinks (Multiple)\": ['Can Soda', 'Sports Drink', 'Bottled Cream Soda'],\n",
    "    \"Main + 2 Sides\": ['10 pc Spicy Wings', 'Fried Corn - Large', 'Regular Buffalo Fries'],\n",
    "    \"Drink + Dessert\": ['Can Soda', 'Triple Chocolate Cake'],\n",
    "    \"Empty Cart\": [],\n",
    "}\n",
    "\n",
    "print(\" Final Recommendations (with fallback)\\n\" + \"-\"*50)\n",
    "for label, cart in sample_carts.items():\n",
    "    recs = smart_recommend_with_fallback(\n",
    "        cart,\n",
    "        co_occurrence_dict,\n",
    "        item_type_dict,\n",
    "        top_items_by_type,\n",
    "        item_tags_dict,  # this line was missing\n",
    "        blacklist_items \n",
    "    )\n",
    "    print(f\" {label}:\\nCart: {cart}\")\n",
    "    for item, score in recs:\n",
    "        print(f\"→ {item} (Confidence: {score:.2f})\")\n",
    "    print(\"-\" * 50)"
   ]
  },
  {
   "cell_type": "code",
   "execution_count": 308,
   "id": "0cee8223",
   "metadata": {},
   "outputs": [
    {
     "data": {
      "text/plain": [
       "ORDER_CHANNEL_NAME\n",
       "Digital    1414410\n",
       "Name: count, dtype: int64"
      ]
     },
     "execution_count": 308,
     "metadata": {},
     "output_type": "execute_result"
    }
   ],
   "source": [
    "#User Personalization - Based on ORDER_CHANNEL_NAME\n",
    "\n",
    "# Checking distribution of order channels\n",
    "order_df['ORDER_CHANNEL_NAME'].value_counts()"
   ]
  },
  {
   "cell_type": "code",
   "execution_count": 309,
   "id": "a191f8fc",
   "metadata": {},
   "outputs": [
    {
     "data": {
      "text/plain": [
       "Index(['CUSTOMER_ID', 'STORE_NUMBER', 'ORDER_CREATED_DATE', 'ORDER_ID',\n",
       "       'ORDERS', 'ORDER_CHANNEL_NAME', 'ORDER_SUBCHANNEL_NAME',\n",
       "       'ORDER_OCCASION_NAME', 'ITEM_LIST'],\n",
       "      dtype='object')"
      ]
     },
     "execution_count": 309,
     "metadata": {},
     "output_type": "execute_result"
    }
   ],
   "source": [
    "order_df.columns"
   ]
  },
  {
   "cell_type": "code",
   "execution_count": 310,
   "id": "e39717eb",
   "metadata": {},
   "outputs": [
    {
     "data": {
      "text/plain": [
       "ORDER_CHANNEL_NAME\n",
       "Digital    1414410\n",
       "Name: count, dtype: int64"
      ]
     },
     "execution_count": 310,
     "metadata": {},
     "output_type": "execute_result"
    }
   ],
   "source": [
    "order_df['ORDER_CHANNEL_NAME'].value_counts()"
   ]
  },
  {
   "cell_type": "code",
   "execution_count": 311,
   "id": "24ee5e51",
   "metadata": {},
   "outputs": [
    {
     "name": "stdout",
     "output_type": "stream",
     "text": [
      "Number of unique STORE_NUMBERs: 38\n",
      "\n",
      " Top 10 stores by number of orders:\n",
      "STORE_NUMBER\n",
      "2513    68279\n",
      "4094    61538\n",
      "4915    61400\n",
      "1161    58711\n",
      "949     58306\n",
      "1070    53895\n",
      "1249    49781\n",
      "4750    48223\n",
      "2315    46843\n",
      "3989    46539\n",
      "Name: count, dtype: int64\n"
     ]
    }
   ],
   "source": [
    "# Number of unique stores\n",
    "num_unique_stores = order_df['STORE_NUMBER'].nunique()\n",
    "print(f\"Number of unique STORE_NUMBERs: {num_unique_stores}\")\n",
    "\n",
    "# Top 10 stores by number of orders\n",
    "print(\"\\n Top 10 stores by number of orders:\")\n",
    "print(order_df['STORE_NUMBER'].value_counts().head(10))"
   ]
  },
  {
   "cell_type": "code",
   "execution_count": 312,
   "id": "de6a5db2",
   "metadata": {},
   "outputs": [],
   "source": [
    "#Item feature tagging - identify veg/non-veg, spicy, etc. if possible"
   ]
  },
  {
   "cell_type": "code",
   "execution_count": 313,
   "id": "1ca26cbc",
   "metadata": {},
   "outputs": [],
   "source": [
    "def extract_item_features(item_name):\n",
    "    name = item_name.lower()\n",
    "    tags = set()\n",
    "\n",
    "    # Skipping non-food items\n",
    "    blacklist_keywords = ['plastic', 'fork', 'knife', 'spoon', 'napkin', 'packaging', 'fee', 'delivery']\n",
    "    if any(kw in name for kw in blacklist_keywords):\n",
    "        tags.add('non-food')\n",
    "        return tags\n",
    "\n",
    "    # Veg vs Non-Veg (improved heuristic)\n",
    "    if any(veg_kw in name for veg_kw in ['veggie', 'veg', 'corn', 'paneer', 'celery', 'sticks', 'salad']):\n",
    "        tags.add('veg')\n",
    "    else:\n",
    "        tags.add('non-veg')\n",
    "\n",
    "    # Spicy detection\n",
    "    if 'spicy' in name:\n",
    "        tags.add('spicy')\n",
    "\n",
    "    # Combo detection\n",
    "    if 'combo' in name or 'feast' in name or 'bundle' in name:\n",
    "        tags.add('combo')\n",
    "\n",
    "    # Dessert\n",
    "    if 'cake' in name or 'dessert' in name:\n",
    "        tags.add('dessert')\n",
    "\n",
    "    # Cold drinks\n",
    "    if any(drink_kw in name for drink_kw in ['soda', 'fruit punch', 'root beer', 'drink']):\n",
    "        tags.add('cold_drink')\n",
    "\n",
    "    return tags\n"
   ]
  },
  {
   "cell_type": "code",
   "execution_count": 314,
   "id": "eef193b4",
   "metadata": {},
   "outputs": [],
   "source": [
    "# Getting all unique item names\n",
    "all_items = set()\n",
    "for items in order_df['ITEM_LIST']:\n",
    "    all_items.update(items)\n",
    "\n",
    "# Building item_feature_dict\n",
    "item_feature_dict = {item: extract_item_features(item) for item in all_items}\n"
   ]
  },
  {
   "cell_type": "code",
   "execution_count": 315,
   "id": "71aef6c6",
   "metadata": {},
   "outputs": [],
   "source": [
    "item_feature_dict = {item: extract_item_features(item) for item in all_items}"
   ]
  },
  {
   "cell_type": "code",
   "execution_count": 316,
   "id": "a755e0e9",
   "metadata": {},
   "outputs": [
    {
     "name": "stdout",
     "output_type": "stream",
     "text": [
      "Buffalo Fries → {'non-veg'}\n",
      "Ranch Dip - Large → {'non-veg'}\n",
      "75 pc Family Grilled Wings → {'non-veg'}\n",
      "30 pc Family Grilled Wings → {'non-veg'}\n",
      "Bottled Sparkling Water → {'non-veg'}\n",
      "8 pc Spicy Wings Combo → {'combo', 'non-veg', 'spicy'}\n",
      "Honey Mustard Dip - Large → {'non-veg'}\n",
      "Triple Chocolate Cake → {'non-veg', 'dessert'}\n",
      "30 pc Crispy Strips → {'non-veg'}\n",
      "10 pc Spicy Wings → {'non-veg', 'spicy'}\n"
     ]
    }
   ],
   "source": [
    "for item, tags in list(item_feature_dict.items())[:10]:\n",
    "    print(f\"{item} → {tags}\")"
   ]
  },
  {
   "cell_type": "code",
   "execution_count": 317,
   "id": "fec85e21",
   "metadata": {},
   "outputs": [
    {
     "name": "stdout",
     "output_type": "stream",
     "text": [
      "Final Recommendations (with fallback)\n",
      "--------------------------------------------------\n",
      " Only Main:\n",
      "Cart: ['10 pc Grilled Wings Combo']\n",
      "→ Ranch Dip - Regular (Confidence: 55614.00)\n",
      "→ 2 pc Crispy Strips (Confidence: 11575.00)\n",
      "→ Fried Corn - Regular (Confidence: 7690.80)\n",
      "--------------------------------------------------\n",
      " Only Drink:\n",
      "Cart: ['20 Oz Soda']\n",
      "→ 20pc Spicy Feast Deal (Confidence: 12210.00)\n",
      "→ Ranch Dip - Regular (Confidence: 6879.60)\n",
      "→ Regular Buffalo Fries (Confidence: 3930.00)\n",
      "--------------------------------------------------\n",
      " Main + Side:\n",
      "Cart: ['6 pc Crispy Strips Combo', 'Fried Corn - Regular']\n",
      "→ Ranch Dip - Regular (Confidence: 22852.80)\n",
      "→ 20pc Spicy Feast Deal (Confidence: 14689.50)\n",
      "→ Regular Buffalo Fries (Confidence: 5971.00)\n",
      "--------------------------------------------------\n",
      " All Types:\n",
      "Cart: ['15 pc Spicy Wings', 'Ranch Dip - Regular', '20 Oz Soda', 'Large Buffalo Fries']\n",
      "→ Regular Buffalo Fries (Confidence: 54487.00)\n",
      "→ 10 pc Grilled Wings Combo (Confidence: 50148.00)\n",
      "→ Ranch Dip - Large (Confidence: 22927.00)\n",
      "--------------------------------------------------\n",
      " Only Dip:\n",
      "Cart: ['Ranch Dip - Regular']\n",
      "→ 10 pc Grilled Wings Combo (Confidence: 55614.00)\n",
      "→ Regular Buffalo Fries (Confidence: 50575.20)\n",
      "→ Dipping Sauce (Confidence: 12924.00)\n",
      "--------------------------------------------------\n",
      " Main + Drink:\n",
      "Cart: ['Legendary Feast Bundle', 'Can Soda']\n",
      "→ Regular Buffalo Fries (Confidence: 2710.80)\n",
      "→ 20pc Spicy Feast Deal (Confidence: 843.70)\n",
      "→ Ranch Dip - Regular (Confidence: 709.20)\n",
      "--------------------------------------------------\n",
      " Only Drinks (Multiple):\n",
      "Cart: ['Can Soda', 'Sports Drink', 'Bottled Cream Soda']\n",
      "→ Ranch Dip - Regular (Confidence: 10.80)\n",
      "→ 10 pc Grilled Wings (Confidence: 3.60)\n",
      "→ 20 Oz Soda (Confidence: 2.00)\n",
      "--------------------------------------------------\n",
      " Main + 2 Sides:\n",
      "Cart: ['10 pc Spicy Wings', 'Fried Corn - Large', 'Regular Buffalo Fries']\n",
      "→ Ranch Dip - Regular (Confidence: 100165.20)\n",
      "→ 20pc Spicy Feast Deal (Confidence: 23749.00)\n",
      "→ Large Buffalo Fries (Confidence: 12939.00)\n",
      "--------------------------------------------------\n",
      " Drink + Dessert:\n",
      "Cart: ['Can Soda', 'Triple Chocolate Cake']\n",
      "→ Ranch Dip - Regular (Confidence: 3153.60)\n",
      "→ 20pc Spicy Feast Deal (Confidence: 2955.00)\n",
      "→ Regular Buffalo Fries (Confidence: 751.00)\n",
      "--------------------------------------------------\n",
      " Empty Cart:\n",
      "Cart: []\n",
      "→ 20pc Spicy Feast Deal (Confidence: 0.00)\n",
      "→ 10 pc Grilled Wings Combo (Confidence: 0.00)\n",
      "→ 6 pc Grilled Wings Combo (Confidence: 0.00)\n",
      "--------------------------------------------------\n"
     ]
    }
   ],
   "source": [
    "print(\"Final Recommendations (with fallback)\\n\" + \"-\"*50)\n",
    "for label, cart in sample_carts.items():\n",
    "    recs = smart_recommend_with_fallback(\n",
    "        cart,\n",
    "        co_occurrence_dict,\n",
    "        item_type_dict,\n",
    "        top_items_by_type,\n",
    "        item_feature_dict,     # <- this is our item_tags_dict\n",
    "        blacklist_items        # <- assuming this is already defined\n",
    "    )\n",
    "    print(f\" {label}:\\nCart: {cart}\")\n",
    "    for item, score in recs:\n",
    "        print(f\"→ {item} (Confidence: {score:.2f})\")\n",
    "    print(\"-\" * 50)"
   ]
  },
  {
   "cell_type": "code",
   "execution_count": 318,
   "id": "bd1b5abe",
   "metadata": {},
   "outputs": [],
   "source": [
    "# Evaluation Phase: Measuring Recommendation Quality\n",
    "# We now evaluate the performance of our recommendation system using `recall@3`. This tells us how often our top-3 recommended items include the actual next purchased item (ground truth)."
   ]
  },
  {
   "cell_type": "code",
   "execution_count": 319,
   "id": "bdec6a9e",
   "metadata": {},
   "outputs": [],
   "source": [
    "#  Evaluation Setup: Ground Truth Test Carts\n",
    "# Each test sample contains:\n",
    "# - a sample cart\n",
    "# - the actual item that was purchased next\n",
    "\n",
    "test_cases = [\n",
    "    {\n",
    "        \"cart\": [\"10 pc Spicy Wings\", \"Regular Buffalo Fries\"],\n",
    "        \"true_next\": \"Ranch Dip - Regular\"\n",
    "    },\n",
    "    {\n",
    "        \"cart\": [\"Can Soda\", \"Triple Chocolate Cake\"],\n",
    "        \"true_next\": \"10 pc Grilled Wings Combo\"\n",
    "    },\n",
    "    {\n",
    "        \"cart\": [\"6 pc Crispy Strips Combo\"],\n",
    "        \"true_next\": \"20pc Spicy Feast Deal\"\n",
    "    },\n",
    "    {\n",
    "        \"cart\": [\"20 Oz Soda\"],\n",
    "        \"true_next\": \"Regular Buffalo Fries\"\n",
    "    },\n",
    "    {\n",
    "        \"cart\": [\"Legendary Feast Bundle\", \"Can Soda\"],\n",
    "        \"true_next\": \"Large Buffalo Fries\"\n",
    "    }\n",
    "]\n"
   ]
  },
  {
   "cell_type": "code",
   "execution_count": 320,
   "id": "3ec43471",
   "metadata": {},
   "outputs": [],
   "source": [
    "# Function to compute Recall@K\n",
    "def recall_at_k(recommended_items, true_item, k=3):\n",
    "    top_k_items = [item for item, _ in recommended_items[:k]]\n",
    "    return int(true_item in top_k_items)"
   ]
  },
  {
   "cell_type": "code",
   "execution_count": 321,
   "id": "56b99bd6",
   "metadata": {},
   "outputs": [
    {
     "name": "stdout",
     "output_type": "stream",
     "text": [
      "[1] Cart: ['10 pc Spicy Wings', 'Regular Buffalo Fries'] → True: Ranch Dip - Regular\n",
      "    Recommendations: ['Ranch Dip - Regular', '10 pc Grilled Wings', '20 Oz Soda']\n",
      "      Hit: True\n",
      "--------------------------------------------------\n",
      "[2] Cart: ['Can Soda', 'Triple Chocolate Cake'] → True: 10 pc Grilled Wings Combo\n",
      "    Recommendations: ['Ranch Dip - Regular', '20pc Spicy Feast Deal', 'Regular Buffalo Fries']\n",
      "      Hit: False\n",
      "--------------------------------------------------\n",
      "[3] Cart: ['6 pc Crispy Strips Combo'] → True: 20pc Spicy Feast Deal\n",
      "    Recommendations: ['20pc Spicy Feast Deal', '10 pc Grilled Wings Combo', '6 pc Grilled Wings Combo']\n",
      "      Hit: True\n",
      "--------------------------------------------------\n",
      "[4] Cart: ['20 Oz Soda'] → True: Regular Buffalo Fries\n",
      "    Recommendations: ['20pc Spicy Feast Deal', 'Ranch Dip - Regular', 'Regular Buffalo Fries']\n",
      "      Hit: True\n",
      "--------------------------------------------------\n",
      "[5] Cart: ['Legendary Feast Bundle', 'Can Soda'] → True: Large Buffalo Fries\n",
      "    Recommendations: ['Regular Buffalo Fries', '20pc Spicy Feast Deal', 'Ranch Dip - Regular']\n",
      "      Hit: False\n",
      "--------------------------------------------------\n",
      "\n",
      " Overall Recall@3: 0.60\n"
     ]
    }
   ],
   "source": [
    "# Evaluate on test set using smart_recommend_with_fallback\n",
    "k = 3\n",
    "correct = 0\n",
    "\n",
    "for idx, case in enumerate(test_cases, 1):\n",
    "    cart = case[\"cart\"]\n",
    "    true_next = case[\"true_next\"]\n",
    "\n",
    "    recs = smart_recommend_with_fallback(\n",
    "        cart,\n",
    "        co_occurrence_dict,\n",
    "        item_type_dict,\n",
    "        top_items_by_type,\n",
    "        item_feature_dict,\n",
    "        blacklist_items,\n",
    "        top_n=k\n",
    "    )\n",
    "    hit = recall_at_k(recs, true_next, k)\n",
    "    correct += hit\n",
    "    print(f\"[{idx}] Cart: {cart} → True: {true_next}\")\n",
    "    print(f\"    Recommendations: {[item for item, _ in recs]}\")\n",
    "    print(f\"      Hit: {bool(hit)}\")\n",
    "    print(\"-\" * 50)\n",
    "\n",
    "recall_score = correct / len(test_cases)\n",
    "print(f\"\\n Overall Recall@{k}: {recall_score:.2f}\")\n",
    "\n"
   ]
  },
  {
   "cell_type": "code",
   "execution_count": 322,
   "id": "e86f0d5c",
   "metadata": {},
   "outputs": [],
   "source": [
    "# Summary of Evaluation (Recall@3)\n",
    "#We evaluated the system on 5 hand-picked test carts. The recommendation system correctly suggested the next true item in 3 out of 5 cases.📌 Final Recall@3: **60%**"
   ]
  },
  {
   "cell_type": "code",
   "execution_count": 323,
   "id": "2a63fdfb",
   "metadata": {},
   "outputs": [
    {
     "name": "stdout",
     "output_type": "stream",
     "text": [
      " Precision@3 Evaluation\n",
      "------------------------------------------------------------\n",
      "[1] Cart: ['10 pc Spicy Wings', 'Regular Buffalo Fries'] → True: Ranch Dip - Regular\n",
      "    Recommendations: ['Ranch Dip - Regular', '10 pc Grilled Wings', '20 Oz Soda']\n",
      "     Hit: True\n",
      "------------------------------------------------------------\n",
      "[2] Cart: ['Can Soda', 'Triple Chocolate Cake'] → True: 10 pc Grilled Wings Combo\n",
      "    Recommendations: ['Ranch Dip - Regular', '20pc Spicy Feast Deal', 'Regular Buffalo Fries']\n",
      "     Hit: False\n",
      "------------------------------------------------------------\n",
      "[3] Cart: ['6 pc Crispy Strips Combo'] → True: 20pc Spicy Feast Deal\n",
      "    Recommendations: ['20pc Spicy Feast Deal', '10 pc Grilled Wings Combo', '6 pc Grilled Wings Combo']\n",
      "     Hit: True\n",
      "------------------------------------------------------------\n",
      "[4] Cart: ['20 Oz Soda'] → True: Regular Buffalo Fries\n",
      "    Recommendations: ['20pc Spicy Feast Deal', 'Ranch Dip - Regular', 'Regular Buffalo Fries']\n",
      "     Hit: True\n",
      "------------------------------------------------------------\n",
      "[5] Cart: ['Legendary Feast Bundle', 'Can Soda'] → True: Large Buffalo Fries\n",
      "    Recommendations: ['Regular Buffalo Fries', 'Ranch Dip - Regular', '20pc Spicy Feast Deal']\n",
      "     Hit: False\n",
      "------------------------------------------------------------\n",
      " Overall Precision@3: 0.20\n"
     ]
    }
   ],
   "source": [
    "# ----------------------------\n",
    "# Precision@3 Evaluation\n",
    "# ----------------------------\n",
    "\n",
    "test_cases = [\n",
    "    ([\"10 pc Spicy Wings\", \"Regular Buffalo Fries\"], \"Ranch Dip - Regular\"),\n",
    "    ([\"Can Soda\", \"Triple Chocolate Cake\"], \"10 pc Grilled Wings Combo\"),\n",
    "    ([\"6 pc Crispy Strips Combo\"], \"20pc Spicy Feast Deal\"),\n",
    "    ([\"20 Oz Soda\"], \"Regular Buffalo Fries\"),\n",
    "    ([\"Legendary Feast Bundle\", \"Can Soda\"], \"Large Buffalo Fries\"),\n",
    "]\n",
    "\n",
    "hits = 0\n",
    "total_recommended = 0\n",
    "\n",
    "print(\" Precision@3 Evaluation\")\n",
    "print(\"-\" * 60)\n",
    "for i, (cart, true_item) in enumerate(test_cases, 1):\n",
    "    recs = smart_recommend_with_fallback(\n",
    "        cart,\n",
    "        co_occurrence_dict,\n",
    "        item_type_dict,\n",
    "        top_items_by_type,\n",
    "        item_tags_dict,\n",
    "        blacklist_items\n",
    "    )\n",
    "    recommended_items = [item for item, _ in recs]\n",
    "    hit = true_item in recommended_items\n",
    "    total_recommended += len(recommended_items)\n",
    "    hits += 1 if hit else 0\n",
    "    print(f\"[{i}] Cart: {cart} → True: {true_item}\")\n",
    "    print(f\"    Recommendations: {recommended_items}\")\n",
    "    print(f\"     Hit: {hit}\")\n",
    "    print(\"-\" * 60)\n",
    "\n",
    "precision_at_3 = hits / total_recommended\n",
    "print(f\" Overall Precision@3: {precision_at_3:.2f}\")"
   ]
  },
  {
   "cell_type": "code",
   "execution_count": 324,
   "id": "0ef16e15",
   "metadata": {},
   "outputs": [
    {
     "name": "stdout",
     "output_type": "stream",
     "text": [
      " Top-1 Accuracy Evaluation\n",
      "------------------------------------------------------------\n",
      "[1] Cart: ['10 pc Spicy Wings', 'Regular Buffalo Fries'] → True: Ranch Dip - Regular\n",
      "    Top-1 Recommendation: Ranch Dip - Regular\n",
      "     Hit: True\n",
      "------------------------------------------------------------\n",
      "[2] Cart: ['Can Soda', 'Triple Chocolate Cake'] → True: 10 pc Grilled Wings Combo\n",
      "    Top-1 Recommendation: Ranch Dip - Regular\n",
      "     Hit: False\n",
      "------------------------------------------------------------\n",
      "[3] Cart: ['6 pc Crispy Strips Combo'] → True: 20pc Spicy Feast Deal\n",
      "    Top-1 Recommendation: 20pc Spicy Feast Deal\n",
      "     Hit: True\n",
      "------------------------------------------------------------\n",
      "[4] Cart: ['20 Oz Soda'] → True: Regular Buffalo Fries\n",
      "    Top-1 Recommendation: 20pc Spicy Feast Deal\n",
      "     Hit: False\n",
      "------------------------------------------------------------\n",
      "[5] Cart: ['Legendary Feast Bundle', 'Can Soda'] → True: Large Buffalo Fries\n",
      "    Top-1 Recommendation: Regular Buffalo Fries\n",
      "     Hit: False\n",
      "------------------------------------------------------------\n",
      " Top-1 Accuracy: 0.40\n"
     ]
    }
   ],
   "source": [
    "# ----------------------------\n",
    "# Top-1 Accuracy Evaluation\n",
    "# ----------------------------\n",
    "\n",
    "top1_hits = 0\n",
    "print(\" Top-1 Accuracy Evaluation\")\n",
    "print(\"-\" * 60)\n",
    "for i, (cart, true_item) in enumerate(test_cases, 1):\n",
    "    recs = smart_recommend_with_fallback(\n",
    "        cart,\n",
    "        co_occurrence_dict,\n",
    "        item_type_dict,\n",
    "        top_items_by_type,\n",
    "        item_tags_dict,\n",
    "        blacklist_items\n",
    "    )\n",
    "    top1 = recs[0][0] if recs else None\n",
    "    hit = (top1 == true_item)\n",
    "    top1_hits += 1 if hit else 0\n",
    "    print(f\"[{i}] Cart: {cart} → True: {true_item}\")\n",
    "    print(f\"    Top-1 Recommendation: {top1}\")\n",
    "    print(f\"     Hit: {hit}\")\n",
    "    print(\"-\" * 60)\n",
    "\n",
    "top1_accuracy = top1_hits / len(test_cases)\n",
    "print(f\" Top-1 Accuracy: {top1_accuracy:.2f}\")"
   ]
  },
  {
   "cell_type": "code",
   "execution_count": 325,
   "id": "3383b17f",
   "metadata": {},
   "outputs": [],
   "source": [
    "# Normalizing Co-occurrence Enhancement\n",
    "# We rebuild the co-occurrence matrix using cosine-style normalization to reduce popularity bias and improve quality of recommendations."
   ]
  },
  {
   "cell_type": "code",
   "execution_count": 326,
   "id": "593e0853",
   "metadata": {},
   "outputs": [],
   "source": [
    "from collections import defaultdict\n",
    "import math\n",
    "\n",
    "# Step 1: Counting the frequency of each item\n",
    "item_freq = defaultdict(int)\n",
    "pair_count = defaultdict(lambda: defaultdict(int))\n",
    "\n",
    "# Assuming each row in dforders is a list of items (already cleaned)\n",
    "for items in order_df['ITEM_LIST']:\n",
    "    unique_items = list(set(items))  # removing duplicates in a cart\n",
    "    for item in unique_items:\n",
    "        item_freq[item] += 1\n",
    "    for i in range(len(unique_items)):\n",
    "        for j in range(i + 1, len(unique_items)):\n",
    "            a, b = unique_items[i], unique_items[j]\n",
    "            pair_count[a][b] += 1\n",
    "            pair_count[b][a] += 1  # symmetric\n",
    "\n",
    "# Step 2: Normalizing co-occurrence using cosine-style similarity\n",
    "normalized_co_dict = defaultdict(dict)\n",
    "\n",
    "for item_a in pair_count:\n",
    "    for item_b in pair_count[item_a]:\n",
    "        denom = math.sqrt(item_freq[item_a] * item_freq[item_b])\n",
    "        if denom != 0:\n",
    "            normalized_score = pair_count[item_a][item_b] / denom\n",
    "            normalized_co_dict[item_a][item_b] = normalized_score\n"
   ]
  },
  {
   "cell_type": "code",
   "execution_count": 327,
   "id": "2ec35e91",
   "metadata": {},
   "outputs": [],
   "source": [
    "from collections import defaultdict\n",
    "\n",
    "# Step 1: Counting co-occurrence and individual item frequency\n",
    "pair_count = defaultdict(lambda: defaultdict(int))\n",
    "item_count = defaultdict(int)\n",
    "\n",
    "for items in order_df['ITEM_LIST']:\n",
    "    unique_items = list(set(items))  # removing duplicates in a cart\n",
    "    for i in unique_items:\n",
    "        item_count[i] += 1\n",
    "        for j in unique_items:\n",
    "            if i != j:\n",
    "                pair_count[i][j] += 1\n",
    "\n",
    "# Step 2: Normalizing the co-occurrence scores\n",
    "normalized_co_matrix = defaultdict(dict)\n",
    "\n",
    "for item_i in pair_count:\n",
    "    for item_j in pair_count[item_i]:\n",
    "        normalized_score = pair_count[item_i][item_j] / item_count[item_i]\n",
    "        normalized_co_matrix[item_i][item_j] = normalized_score"
   ]
  },
  {
   "cell_type": "code",
   "execution_count": 328,
   "id": "679ceaf0",
   "metadata": {},
   "outputs": [
    {
     "name": "stdout",
     "output_type": "stream",
     "text": [
      " Final Recommendations (with Normalized Co-occurrence)\n",
      "--------------------------------------------------\n",
      " Only Main:\n",
      "Cart: ['10 pc Grilled Wings Combo']\n",
      "→ Ranch Dip - Regular (Confidence: 0.33)\n",
      "→ 2 pc Crispy Strips (Confidence: 0.07)\n",
      "→ Fried Corn - Regular (Confidence: 0.05)\n",
      "--------------------------------------------------\n",
      " Only Drink:\n",
      "Cart: ['20 Oz Soda']\n",
      "→ 20pc Spicy Feast Deal (Confidence: 0.46)\n",
      "→ Ranch Dip - Regular (Confidence: 0.32)\n",
      "→ Regular Buffalo Fries (Confidence: 0.18)\n",
      "--------------------------------------------------\n",
      " Main + Side:\n",
      "Cart: ['6 pc Crispy Strips Combo', 'Fried Corn - Regular']\n",
      "→ Ranch Dip - Regular (Confidence: 0.39)\n",
      "→ 20pc Spicy Feast Deal (Confidence: 0.20)\n",
      "→ Regular Buffalo Fries (Confidence: 0.10)\n",
      "--------------------------------------------------\n",
      " All Types:\n",
      "Cart: ['15 pc Spicy Wings', 'Ranch Dip - Regular', '20 Oz Soda', 'Large Buffalo Fries']\n",
      "→ 20pc Spicy Feast Deal (Confidence: 0.63)\n",
      "→ Regular Buffalo Fries (Confidence: 0.57)\n",
      "→ Ranch Dip - Large (Confidence: 0.38)\n",
      "--------------------------------------------------\n",
      " Only Dip:\n",
      "Cart: ['Ranch Dip - Regular']\n",
      "→ 10 pc Grilled Wings Combo (Confidence: 0.18)\n",
      "→ Regular Buffalo Fries (Confidence: 0.17)\n",
      "→ Dipping Sauce (Confidence: 0.04)\n",
      "--------------------------------------------------\n",
      " Main + Drink:\n",
      "Cart: ['Legendary Feast Bundle', 'Can Soda']\n",
      "→ Large Buffalo Fries (Confidence: 0.40)\n",
      "→ Ranch Dip - Regular (Confidence: 0.29)\n",
      "→ 24 pc Family Spicy Wings (Confidence: 0.22)\n",
      "--------------------------------------------------\n",
      " Only Drinks (Multiple):\n",
      "Cart: ['Can Soda', 'Sports Drink', 'Bottled Cream Soda']\n",
      "→ Ranch Dip - Regular (Confidence: 2.05)\n",
      "→ 15 pc Spicy Wings (Confidence: 1.20)\n",
      "→ 20 Oz Soda (Confidence: 0.24)\n",
      "--------------------------------------------------\n",
      " Main + 2 Sides:\n",
      "Cart: ['10 pc Spicy Wings', 'Fried Corn - Large', 'Regular Buffalo Fries']\n",
      "→ Ranch Dip - Regular (Confidence: 1.46)\n",
      "→ 20pc Spicy Feast Deal (Confidence: 0.37)\n",
      "→ Large Buffalo Fries (Confidence: 0.23)\n",
      "--------------------------------------------------\n",
      " Drink + Dessert:\n",
      "Cart: ['Can Soda', 'Triple Chocolate Cake']\n",
      "→ Ranch Dip - Regular (Confidence: 0.48)\n",
      "→ 24 pc Family Spicy Wings (Confidence: 0.25)\n",
      "→ Large Buffalo Fries (Confidence: 0.21)\n",
      "--------------------------------------------------\n",
      " Empty Cart:\n",
      "Cart: []\n",
      "→ 20pc Spicy Feast Deal (Confidence: 0.00)\n",
      "→ 10 pc Grilled Wings Combo (Confidence: 0.00)\n",
      "→ 6 pc Grilled Wings Combo (Confidence: 0.00)\n",
      "--------------------------------------------------\n"
     ]
    }
   ],
   "source": [
    "#  Running smart recommender with normalized co-occurrence matrix\n",
    "print(\" Final Recommendations (with Normalized Co-occurrence)\\n\" + \"-\"*50)\n",
    "for label, cart in sample_carts.items():\n",
    "    recs = smart_recommend_with_fallback(\n",
    "        cart,\n",
    "        normalized_co_matrix,              # ✅ using normalized version here\n",
    "        item_type_dict,\n",
    "        top_items_by_type,\n",
    "        item_tags_dict,\n",
    "        blacklist_items\n",
    "    )\n",
    "    print(f\" {label}:\\nCart: {cart}\")\n",
    "    for item, score in recs:\n",
    "        print(f\"→ {item} (Confidence: {score:.2f})\")\n",
    "    print(\"-\" * 50)"
   ]
  },
  {
   "cell_type": "code",
   "execution_count": 329,
   "id": "e3093571",
   "metadata": {},
   "outputs": [],
   "source": [
    "#  Evaluation After Normalized Co-occurrence Enhancement"
   ]
  },
  {
   "cell_type": "code",
   "execution_count": 330,
   "id": "cb912c0a",
   "metadata": {},
   "outputs": [
    {
     "name": "stdout",
     "output_type": "stream",
     "text": [
      " Recall@3 Evaluation with Normalized Scores\n",
      "------------------------------------------------------------\n",
      "[1] Cart: ['10 pc Spicy Wings', 'Regular Buffalo Fries'] → True: Ranch Dip - Regular\n",
      "    Recommendations: ['Ranch Dip - Regular', '10 pc Grilled Wings', '20 Oz Soda']\n",
      "     Hit: True\n",
      "------------------------------------------------------------\n",
      "[2] Cart: ['Can Soda', 'Triple Chocolate Cake'] → True: 10 pc Grilled Wings Combo\n",
      "    Recommendations: ['Ranch Dip - Regular', '24 pc Family Spicy Wings', 'Large Buffalo Fries']\n",
      "     Hit: False\n",
      "------------------------------------------------------------\n",
      "[3] Cart: ['6 pc Crispy Strips Combo'] → True: 20pc Spicy Feast Deal\n",
      "    Recommendations: ['20pc Spicy Feast Deal', '10 pc Grilled Wings Combo', '6 pc Grilled Wings Combo']\n",
      "     Hit: True\n",
      "------------------------------------------------------------\n",
      "[4] Cart: ['20 Oz Soda'] → True: Regular Buffalo Fries\n",
      "    Recommendations: ['20pc Spicy Feast Deal', 'Ranch Dip - Regular', 'Regular Buffalo Fries']\n",
      "     Hit: True\n",
      "------------------------------------------------------------\n",
      "[5] Cart: ['Legendary Feast Bundle', 'Can Soda'] → True: Large Buffalo Fries\n",
      "    Recommendations: ['Large Buffalo Fries', 'Ranch Dip - Regular', '24 pc Family Spicy Wings']\n",
      "     Hit: True\n",
      "------------------------------------------------------------\n",
      " Recall@3: 0.80\n"
     ]
    }
   ],
   "source": [
    "# Test Carts and Ground Truth Items\n",
    "test_cases = [\n",
    "    (['10 pc Spicy Wings', 'Regular Buffalo Fries'], 'Ranch Dip - Regular'),\n",
    "    (['Can Soda', 'Triple Chocolate Cake'], '10 pc Grilled Wings Combo'),\n",
    "    (['6 pc Crispy Strips Combo'], '20pc Spicy Feast Deal'),\n",
    "    (['20 Oz Soda'], 'Regular Buffalo Fries'),\n",
    "    (['Legendary Feast Bundle', 'Can Soda'], 'Large Buffalo Fries'),\n",
    "]\n",
    "\n",
    "hits = 0\n",
    "print(\" Recall@3 Evaluation with Normalized Scores\")\n",
    "print(\"-\" * 60)\n",
    "for i, (cart, true_item) in enumerate(test_cases, 1):\n",
    "    recs = smart_recommend_with_fallback(\n",
    "        cart,\n",
    "        normalized_co_matrix,     #  Using normalized co-occurrence\n",
    "        item_type_dict,\n",
    "        top_items_by_type,\n",
    "        item_tags_dict,\n",
    "        blacklist_items\n",
    "    )\n",
    "    rec_items = [item for item, _ in recs]\n",
    "    hit = true_item in rec_items\n",
    "    print(f\"[{i}] Cart: {cart} → True: {true_item}\")\n",
    "    print(f\"    Recommendations: {rec_items}\")\n",
    "    print(f\"     Hit: {hit}\")\n",
    "    print(\"-\" * 60)\n",
    "    if hit:\n",
    "        hits += 1\n",
    "\n",
    "recall_at_3 = hits / len(test_cases)\n",
    "print(f\" Recall@3: {recall_at_3:.2f}\")\n"
   ]
  },
  {
   "cell_type": "code",
   "execution_count": 331,
   "id": "c78e7a4c",
   "metadata": {},
   "outputs": [
    {
     "name": "stdout",
     "output_type": "stream",
     "text": [
      "[1] Cart: ['10 pc Spicy Wings', 'Regular Buffalo Fries'] → True: Ranch Dip - Regular\n",
      "    Recommendations: ['Ranch Dip - Regular', '10 pc Grilled Wings', '20 Oz Soda']\n",
      "    Hit: True\n",
      "------------------------------------------------------------\n",
      "[2] Cart: ['Can Soda', 'Triple Chocolate Cake'] → True: 10 pc Grilled Wings Combo\n",
      "    Recommendations: ['Ranch Dip - Regular', '24 pc Family Spicy Wings', 'Large Buffalo Fries']\n",
      "    Hit: False\n",
      "------------------------------------------------------------\n",
      "[3] Cart: ['6 pc Crispy Strips Combo'] → True: 20pc Spicy Feast Deal\n",
      "    Recommendations: ['20pc Spicy Feast Deal', '10 pc Grilled Wings Combo', '6 pc Grilled Wings Combo']\n",
      "    Hit: True\n",
      "------------------------------------------------------------\n",
      "[4] Cart: ['20 Oz Soda'] → True: Regular Buffalo Fries\n",
      "    Recommendations: ['20pc Spicy Feast Deal', 'Ranch Dip - Regular', 'Regular Buffalo Fries']\n",
      "    Hit: True\n",
      "------------------------------------------------------------\n",
      "[5] Cart: ['Legendary Feast Bundle', 'Can Soda'] → True: Large Buffalo Fries\n",
      "    Recommendations: ['Large Buffalo Fries', 'Ranch Dip - Regular', '24 pc Family Spicy Wings']\n",
      "    Hit: True\n",
      "------------------------------------------------------------\n",
      " Precision@3: 0.27\n"
     ]
    }
   ],
   "source": [
    "# ------------------------------------------------------------\n",
    "# Precision@3 Evaluation with Normalized Scores\n",
    "# ------------------------------------------------------------\n",
    "\n",
    "correct = 0\n",
    "total_preds = 0\n",
    "\n",
    "for i, (cart, true_item) in enumerate(test_cases, 1):\n",
    "    recs = smart_recommend_with_fallback(\n",
    "        cart,\n",
    "        normalized_co_matrix,\n",
    "        item_type_dict,\n",
    "        top_items_by_type,\n",
    "        item_tags_dict,\n",
    "        blacklist_items\n",
    "    )\n",
    "    rec_items = [item for item, _ in recs]\n",
    "    hit = true_item in rec_items\n",
    "    total_preds += len(rec_items)\n",
    "    correct += 1 if hit else 0\n",
    "\n",
    "    print(f\"[{i}] Cart: {cart} → True: {true_item}\")\n",
    "    print(f\"    Recommendations: {rec_items}\")\n",
    "    print(f\"    Hit: {hit}\")\n",
    "    print(\"-\" * 60)\n",
    "\n",
    "precision_at_3 = correct / (len(test_cases) * 3)\n",
    "print(f\" Precision@3: {precision_at_3:.2f}\")\n"
   ]
  },
  {
   "cell_type": "code",
   "execution_count": 332,
   "id": "d18e0947",
   "metadata": {},
   "outputs": [
    {
     "name": "stdout",
     "output_type": "stream",
     "text": [
      "[1] Cart: ['10 pc Spicy Wings', 'Regular Buffalo Fries'] → True: Ranch Dip - Regular\n",
      "    Top-1 Recommendation: Ranch Dip - Regular\n",
      "     Hit: True\n",
      "------------------------------------------------------------\n",
      "[2] Cart: ['Can Soda', 'Triple Chocolate Cake'] → True: 10 pc Grilled Wings Combo\n",
      "    Top-1 Recommendation: Ranch Dip - Regular\n",
      "     Hit: False\n",
      "------------------------------------------------------------\n",
      "[3] Cart: ['6 pc Crispy Strips Combo'] → True: 20pc Spicy Feast Deal\n",
      "    Top-1 Recommendation: 20pc Spicy Feast Deal\n",
      "     Hit: True\n",
      "------------------------------------------------------------\n",
      "[4] Cart: ['20 Oz Soda'] → True: Regular Buffalo Fries\n",
      "    Top-1 Recommendation: 20pc Spicy Feast Deal\n",
      "     Hit: False\n",
      "------------------------------------------------------------\n",
      "[5] Cart: ['Legendary Feast Bundle', 'Can Soda'] → True: Large Buffalo Fries\n",
      "    Top-1 Recommendation: Large Buffalo Fries\n",
      "     Hit: True\n",
      "------------------------------------------------------------\n",
      "Top-1 Accuracy: 0.60\n"
     ]
    }
   ],
   "source": [
    "# Top-1 Accuracy Evaluation with Normalized Scores\n",
    "\n",
    "\n",
    "top1_hits = 0\n",
    "\n",
    "for i, (cart, true_item) in enumerate(test_cases, 1):\n",
    "    recs = smart_recommend_with_fallback(\n",
    "        cart,\n",
    "        normalized_co_matrix,\n",
    "        item_type_dict,\n",
    "        top_items_by_type,\n",
    "        item_tags_dict,\n",
    "        blacklist_items\n",
    "    )\n",
    "    top1 = recs[0][0] if recs else None\n",
    "    hit = top1 == true_item\n",
    "    top1_hits += 1 if hit else 0\n",
    "\n",
    "    print(f\"[{i}] Cart: {cart} → True: {true_item}\")\n",
    "    print(f\"    Top-1 Recommendation: {top1}\")\n",
    "    print(f\"     Hit: {hit}\")\n",
    "    print(\"-\" * 60)\n",
    "\n",
    "top1_acc = top1_hits / len(test_cases)\n",
    "print(f\"Top-1 Accuracy: {top1_acc:.2f}\")\n"
   ]
  },
  {
   "cell_type": "code",
   "execution_count": 333,
   "id": "ae44d4c2",
   "metadata": {},
   "outputs": [
    {
     "name": "stdout",
     "output_type": "stream",
     "text": [
      " Recall@3 Evaluation (15 test cases)\n",
      "------------------------------------------------------------\n",
      "[1] Cart: ['10 pc Spicy Wings', 'Regular Buffalo Fries'] → True: Ranch Dip - Regular\n",
      "    Recommendations: ['Ranch Dip - Regular', '10 pc Grilled Wings', '20 Oz Soda']\n",
      "     Hit: True\n",
      "------------------------------------------------------------\n",
      "[2] Cart: ['Can Soda', 'Triple Chocolate Cake'] → True: 10 pc Grilled Wings Combo\n",
      "    Recommendations: ['Ranch Dip - Regular', '20pc Spicy Feast Deal', 'Large Buffalo Fries']\n",
      "     Hit: False\n",
      "------------------------------------------------------------\n",
      "[3] Cart: ['6 pc Crispy Strips Combo'] → True: 20pc Spicy Feast Deal\n",
      "    Recommendations: ['20pc Spicy Feast Deal', '10 pc Grilled Wings Combo', '6 pc Grilled Wings Combo']\n",
      "     Hit: True\n",
      "------------------------------------------------------------\n",
      "[4] Cart: ['20 Oz Soda'] → True: Regular Buffalo Fries\n",
      "    Recommendations: ['20pc Spicy Feast Deal', 'Ranch Dip - Regular', 'Regular Buffalo Fries']\n",
      "     Hit: True\n",
      "------------------------------------------------------------\n",
      "[5] Cart: ['Legendary Feast Bundle', 'Can Soda'] → True: Large Buffalo Fries\n",
      "    Recommendations: ['Large Buffalo Fries', 'Ranch Dip - Regular', '24 pc Family Spicy Wings']\n",
      "     Hit: True\n",
      "------------------------------------------------------------\n",
      " Recall@3: 0.80\n"
     ]
    }
   ],
   "source": [
    "print(\" Recall@3 Evaluation (15 test cases)\")\n",
    "print(\"-\" * 60)\n",
    "\n",
    "recall_hits = 0\n",
    "\n",
    "for idx, (cart, true_item) in enumerate(test_cases, start=1):\n",
    "    recs = smart_recommend_with_fallback(\n",
    "        cart,\n",
    "        normalized_co_matrix,  #  Use normalized matrix now\n",
    "        item_type_dict,\n",
    "        top_items_by_type,\n",
    "        item_feature_dict,\n",
    "        blacklist_items\n",
    "    )\n",
    "    top_items = [item for item, score in recs]\n",
    "    hit = true_item in top_items\n",
    "    recall_hits += int(hit)\n",
    "    \n",
    "    print(f\"[{idx}] Cart: {cart} → True: {true_item}\")\n",
    "    print(f\"    Recommendations: {top_items}\")\n",
    "    print(f\"     Hit: {hit}\")\n",
    "    print(\"-\" * 60)\n",
    "\n",
    "recall_at_3 = recall_hits / len(test_cases)\n",
    "print(f\" Recall@3: {recall_at_3:.2f}\")"
   ]
  },
  {
   "cell_type": "code",
   "execution_count": 334,
   "id": "cf9d464c",
   "metadata": {},
   "outputs": [
    {
     "name": "stdout",
     "output_type": "stream",
     "text": [
      " Precision@3 Evaluation (15 test cases)\n",
      "------------------------------------------------------------\n",
      "[1] Cart: ['10 pc Spicy Wings', 'Regular Buffalo Fries'] → True: Ranch Dip - Regular\n",
      "    Recommendations: ['Ranch Dip - Regular', '10 pc Grilled Wings', '20 Oz Soda']\n",
      "     Hit: True\n",
      "------------------------------------------------------------\n",
      "[2] Cart: ['Can Soda', 'Triple Chocolate Cake'] → True: 10 pc Grilled Wings Combo\n",
      "    Recommendations: ['Ranch Dip - Regular', '20pc Spicy Feast Deal', 'Large Buffalo Fries']\n",
      "     Hit: False\n",
      "------------------------------------------------------------\n",
      "[3] Cart: ['6 pc Crispy Strips Combo'] → True: 20pc Spicy Feast Deal\n",
      "    Recommendations: ['20pc Spicy Feast Deal', '10 pc Grilled Wings Combo', '6 pc Grilled Wings Combo']\n",
      "     Hit: True\n",
      "------------------------------------------------------------\n",
      "[4] Cart: ['20 Oz Soda'] → True: Regular Buffalo Fries\n",
      "    Recommendations: ['20pc Spicy Feast Deal', 'Ranch Dip - Regular', 'Regular Buffalo Fries']\n",
      "     Hit: True\n",
      "------------------------------------------------------------\n",
      "[5] Cart: ['Legendary Feast Bundle', 'Can Soda'] → True: Large Buffalo Fries\n",
      "    Recommendations: ['Large Buffalo Fries', 'Ranch Dip - Regular', '24 pc Family Spicy Wings']\n",
      "     Hit: True\n",
      "------------------------------------------------------------\n",
      " Precision@3: 0.27\n"
     ]
    }
   ],
   "source": [
    "print(\" Precision@3 Evaluation (15 test cases)\")\n",
    "print(\"-\" * 60)\n",
    "\n",
    "precision_hits = 0\n",
    "total_preds = 0\n",
    "\n",
    "for idx, (cart, true_item) in enumerate(test_cases, start=1):\n",
    "    recs = smart_recommend_with_fallback(\n",
    "        cart,\n",
    "        normalized_co_matrix,\n",
    "        item_type_dict,\n",
    "        top_items_by_type,\n",
    "        item_feature_dict,\n",
    "        blacklist_items\n",
    "    )\n",
    "    top_items = [item for item, score in recs]\n",
    "    hit = true_item in top_items\n",
    "    precision_hits += int(hit)\n",
    "    total_preds += len(top_items)\n",
    "    \n",
    "    print(f\"[{idx}] Cart: {cart} → True: {true_item}\")\n",
    "    print(f\"    Recommendations: {top_items}\")\n",
    "    print(f\"     Hit: {hit}\")\n",
    "    print(\"-\" * 60)\n",
    "\n",
    "precision_at_3 = precision_hits / (len(test_cases) * 3)\n",
    "print(f\" Precision@3: {precision_at_3:.2f}\")"
   ]
  },
  {
   "cell_type": "code",
   "execution_count": 335,
   "id": "2a569afe",
   "metadata": {},
   "outputs": [
    {
     "name": "stdout",
     "output_type": "stream",
     "text": [
      " Top-1 Accuracy Evaluation (15 test cases)\n",
      "------------------------------------------------------------\n",
      "[1] Cart: ['10 pc Spicy Wings', 'Regular Buffalo Fries'] → True: Ranch Dip - Regular\n",
      "    Top-1 Recommendation: Ranch Dip - Regular\n",
      "     Hit: True\n",
      "------------------------------------------------------------\n",
      "[2] Cart: ['Can Soda', 'Triple Chocolate Cake'] → True: 10 pc Grilled Wings Combo\n",
      "    Top-1 Recommendation: Ranch Dip - Regular\n",
      "     Hit: False\n",
      "------------------------------------------------------------\n",
      "[3] Cart: ['6 pc Crispy Strips Combo'] → True: 20pc Spicy Feast Deal\n",
      "    Top-1 Recommendation: 20pc Spicy Feast Deal\n",
      "     Hit: True\n",
      "------------------------------------------------------------\n",
      "[4] Cart: ['20 Oz Soda'] → True: Regular Buffalo Fries\n",
      "    Top-1 Recommendation: 20pc Spicy Feast Deal\n",
      "     Hit: False\n",
      "------------------------------------------------------------\n",
      "[5] Cart: ['Legendary Feast Bundle', 'Can Soda'] → True: Large Buffalo Fries\n",
      "    Top-1 Recommendation: Large Buffalo Fries\n",
      "     Hit: True\n",
      "------------------------------------------------------------\n",
      " Top-1 Accuracy: 0.60\n"
     ]
    }
   ],
   "source": [
    "print(\" Top-1 Accuracy Evaluation (15 test cases)\")\n",
    "print(\"-\" * 60)\n",
    "\n",
    "top1_hits = 0\n",
    "\n",
    "for idx, (cart, true_item) in enumerate(test_cases, start=1):\n",
    "    recs = smart_recommend_with_fallback(\n",
    "        cart,\n",
    "        normalized_co_matrix,\n",
    "        item_type_dict,\n",
    "        top_items_by_type,\n",
    "        item_feature_dict,\n",
    "        blacklist_items\n",
    "    )\n",
    "    top_1 = recs[0][0] if recs else None\n",
    "    hit = top_1 == true_item\n",
    "    top1_hits += int(hit)\n",
    "\n",
    "    print(f\"[{idx}] Cart: {cart} → True: {true_item}\")\n",
    "    print(f\"    Top-1 Recommendation: {top_1}\")\n",
    "    print(f\"     Hit: {hit}\")\n",
    "    print(\"-\" * 60)\n",
    "\n",
    "top1_accuracy = top1_hits / len(test_cases)\n",
    "print(f\" Top-1 Accuracy: {top1_accuracy:.2f}\")"
   ]
  },
  {
   "cell_type": "code",
   "execution_count": 336,
   "id": "802dcd3b",
   "metadata": {},
   "outputs": [
    {
     "name": "stdout",
     "output_type": "stream",
     "text": [
      " Final Recommendations with Smarter Fallback\n",
      "-------------------------------------------------------\n",
      " Only Main:\n",
      "Cart: ['10 pc Grilled Wings Combo']\n",
      "→ Ranch Dip - Regular (Confidence: 0.33)\n",
      "→ 2 pc Crispy Strips (Confidence: 0.07)\n",
      "→ Fried Corn - Regular (Confidence: 0.05)\n",
      "-------------------------------------------------------\n",
      " Only Drink:\n",
      "Cart: ['20 Oz Soda']\n",
      "→ 20pc Spicy Feast Deal (Confidence: 0.46)\n",
      "→ Ranch Dip - Regular (Confidence: 0.32)\n",
      "→ Regular Buffalo Fries (Confidence: 0.18)\n",
      "-------------------------------------------------------\n",
      " Main + Side:\n",
      "Cart: ['6 pc Crispy Strips Combo', 'Fried Corn - Regular']\n",
      "→ Ranch Dip - Regular (Confidence: 0.39)\n",
      "→ 20pc Spicy Feast Deal (Confidence: 0.20)\n",
      "→ Regular Buffalo Fries (Confidence: 0.10)\n",
      "-------------------------------------------------------\n",
      " All Types:\n",
      "Cart: ['15 pc Spicy Wings', 'Ranch Dip - Regular', '20 Oz Soda', 'Large Buffalo Fries']\n",
      "→ 20pc Spicy Feast Deal (Confidence: 0.63)\n",
      "→ Regular Buffalo Fries (Confidence: 0.57)\n",
      "→ Ranch Dip - Large (Confidence: 0.38)\n",
      "-------------------------------------------------------\n",
      " Only Dip:\n",
      "Cart: ['Ranch Dip - Regular']\n",
      "→ 10 pc Grilled Wings Combo (Confidence: 0.18)\n",
      "→ Regular Buffalo Fries (Confidence: 0.17)\n",
      "→ Dipping Sauce (Confidence: 0.04)\n",
      "-------------------------------------------------------\n",
      " Main + Drink:\n",
      "Cart: ['Legendary Feast Bundle', 'Can Soda']\n",
      "→ Large Buffalo Fries (Confidence: 0.40)\n",
      "→ Ranch Dip - Regular (Confidence: 0.29)\n",
      "→ 24 pc Family Spicy Wings (Confidence: 0.22)\n",
      "-------------------------------------------------------\n",
      " Only Drinks (Multiple):\n",
      "Cart: ['Can Soda', 'Sports Drink', 'Bottled Cream Soda']\n",
      "→ Ranch Dip - Regular (Confidence: 2.05)\n",
      "→ 15 pc Spicy Wings (Confidence: 1.20)\n",
      "→ 20 Oz Soda (Confidence: 0.24)\n",
      "-------------------------------------------------------\n",
      " Main + 2 Sides:\n",
      "Cart: ['10 pc Spicy Wings', 'Fried Corn - Large', 'Regular Buffalo Fries']\n",
      "→ Ranch Dip - Regular (Confidence: 1.46)\n",
      "→ 20pc Spicy Feast Deal (Confidence: 0.37)\n",
      "→ Large Buffalo Fries (Confidence: 0.23)\n",
      "-------------------------------------------------------\n",
      " Drink + Dessert:\n",
      "Cart: ['Can Soda', 'Triple Chocolate Cake']\n",
      "→ Ranch Dip - Regular (Confidence: 0.48)\n",
      "→ 24 pc Family Spicy Wings (Confidence: 0.25)\n",
      "→ Large Buffalo Fries (Confidence: 0.21)\n",
      "-------------------------------------------------------\n",
      " Veg Only Cart:\n",
      "Cart: ['Celery Sticks', 'Veggie Sticks Spicy']\n",
      "→ Ranch Dip - Regular (Confidence: 1.06)\n",
      "→ 20pc Spicy Feast Deal (Confidence: 0.38)\n",
      "→ Regular Buffalo Fries (Confidence: 0.24)\n",
      "-------------------------------------------------------\n",
      " Combo Only:\n",
      "Cart: ['Chicken Sub Combo', '8 pc Grilled Wings Combo']\n",
      "→ Ranch Dip - Regular (Confidence: 0.48)\n",
      "→ 6 pc Grilled Wings Combo (Confidence: 0.17)\n",
      "→ Fried Corn - Regular (Confidence: 0.09)\n",
      "-------------------------------------------------------\n",
      " Empty Cart:\n",
      "Cart: []\n",
      "→ 20pc Spicy Feast Deal (Confidence: 0.00)\n",
      "→ 10 pc Grilled Wings Combo (Confidence: 0.00)\n",
      "→ 6 pc Grilled Wings Combo (Confidence: 0.00)\n",
      "-------------------------------------------------------\n"
     ]
    }
   ],
   "source": [
    "sample_carts = {\n",
    "    \"Only Main\": ['10 pc Grilled Wings Combo'],\n",
    "    \"Only Drink\": ['20 Oz Soda'],\n",
    "    \"Main + Side\": ['6 pc Crispy Strips Combo', 'Fried Corn - Regular'],\n",
    "    \"All Types\": ['15 pc Spicy Wings', 'Ranch Dip - Regular', '20 Oz Soda', 'Large Buffalo Fries'],\n",
    "    \"Only Dip\": ['Ranch Dip - Regular'],\n",
    "    \"Main + Drink\": ['Legendary Feast Bundle', 'Can Soda'],\n",
    "    \"Only Drinks (Multiple)\": ['Can Soda', 'Sports Drink', 'Bottled Cream Soda'],\n",
    "    \"Main + 2 Sides\": ['10 pc Spicy Wings', 'Fried Corn - Large', 'Regular Buffalo Fries'],\n",
    "    \"Drink + Dessert\": ['Can Soda', 'Triple Chocolate Cake'],\n",
    "    \"Veg Only Cart\": ['Celery Sticks', 'Veggie Sticks Spicy'],\n",
    "    \"Combo Only\": ['Chicken Sub Combo', '8 pc Grilled Wings Combo'],\n",
    "    \"Empty Cart\": [],\n",
    "}\n",
    "\n",
    "print(\" Final Recommendations with Smarter Fallback\\n\" + \"-\"*55)\n",
    "for label, cart in sample_carts.items():\n",
    "    recs = smart_recommend_with_fallback(\n",
    "        cart,\n",
    "        normalized_co_matrix,  # assuming we're using normalized scores\n",
    "        item_type_dict,\n",
    "        top_items_by_type,\n",
    "        item_tags_dict,\n",
    "        blacklist_items\n",
    "    )\n",
    "    print(f\" {label}:\\nCart: {cart}\")\n",
    "    for item, score in recs:\n",
    "        print(f\"→ {item} (Confidence: {score:.2f})\")\n",
    "    print(\"-\" * 55)\n"
   ]
  },
  {
   "cell_type": "code",
   "execution_count": 337,
   "id": "076f60b0",
   "metadata": {},
   "outputs": [
    {
     "name": "stdout",
     "output_type": "stream",
     "text": [
      " Final Recommendations (with fallback):\n",
      "Only Main: ['10 pc Grilled Wings Combo']\n",
      "→ Ranch Dip - Regular (Confidence: 55614.00)\n",
      "→ 2 pc Crispy Strips (Confidence: 11575.00)\n",
      "→ Fried Corn - Regular (Confidence: 7690.80)\n",
      "------------------------------------------------------------\n",
      " Final Recommendations (with fallback):\n",
      "Only Drink: ['20 Oz Soda']\n",
      "→ 20pc Spicy Feast Deal (Confidence: 9768.00)\n",
      "→ Ranch Dip - Regular (Confidence: 6879.60)\n",
      "→ Regular Buffalo Fries (Confidence: 3930.00)\n",
      "------------------------------------------------------------\n",
      " Final Recommendations (with fallback):\n",
      "Only Dip: ['Ranch Dip - Regular']\n",
      "→ 10 pc Grilled Wings Combo (Confidence: 55614.00)\n",
      "→ Regular Buffalo Fries (Confidence: 50575.20)\n",
      "→ Dipping Sauce (Confidence: 12924.00)\n",
      "------------------------------------------------------------\n",
      " Final Recommendations (with fallback):\n",
      "Veg Only: ['Celery Sticks', 'Veggie Sticks Spicy']\n",
      "→ Ranch Dip - Regular (Confidence: 13507.20)\n",
      "→ 20pc Spicy Feast Deal (Confidence: 5616.00)\n",
      "→ Regular Buffalo Fries (Confidence: 3114.00)\n",
      "------------------------------------------------------------\n",
      " Final Recommendations (with fallback):\n",
      "Empty Cart: []\n",
      "→ 20pc Spicy Feast Deal (Confidence: 0.00)\n",
      "→ 10 pc Grilled Wings Combo (Confidence: 0.00)\n",
      "→ 6 pc Grilled Wings Combo (Confidence: 0.00)\n",
      "------------------------------------------------------------\n"
     ]
    }
   ],
   "source": [
    "test_carts = {\n",
    "    \"Only Main\": ['10 pc Grilled Wings Combo'],\n",
    "    \"Only Drink\": ['20 Oz Soda'],\n",
    "    \"Only Dip\": ['Ranch Dip - Regular'],\n",
    "    \"Veg Only\": ['Celery Sticks', 'Veggie Sticks Spicy'],\n",
    "    \"Empty Cart\": []\n",
    "}\n",
    "\n",
    "for label, sample_cart in test_carts.items():\n",
    "    print(\" Final Recommendations (with fallback):\")\n",
    "    print(f\"{label}: {sample_cart}\")\n",
    "    recs = smart_recommend_with_fallback(\n",
    "        sample_cart,\n",
    "        co_occurrence_dict,\n",
    "        item_type_dict,\n",
    "        top_items_by_type,\n",
    "        item_tags_dict  #  Must be passed\n",
    "    )\n",
    "    for item, score in recs:\n",
    "        print(f\"→ {item} (Confidence: {score:.2f})\")\n",
    "    print(\"-\" * 60)"
   ]
  },
  {
   "cell_type": "code",
   "execution_count": 338,
   "id": "716d4af2",
   "metadata": {},
   "outputs": [
    {
     "name": "stdout",
     "output_type": "stream",
     "text": [
      "Recall@3: 1.00\n",
      "Precision@3: 0.33\n",
      "Accuracy@3: 1.00\n"
     ]
    }
   ],
   "source": [
    "import numpy as np\n",
    "\n",
    "def recall_at_k(y_true, y_pred, k=3):\n",
    "    recalls = []\n",
    "    for true_items, pred_items in zip(y_true, y_pred):\n",
    "        hits = len(set(true_items) & set(pred_items[:k]))\n",
    "        total_relevant = len(set(true_items))\n",
    "        recalls.append(hits / total_relevant if total_relevant else 0)\n",
    "    return np.mean(recalls)\n",
    "\n",
    "def precision_at_k(y_true, y_pred, k=3):\n",
    "    precisions = []\n",
    "    for true_items, pred_items in zip(y_true, y_pred):\n",
    "        hits = len(set(true_items) & set(pred_items[:k]))\n",
    "        precisions.append(hits / k)\n",
    "    return np.mean(precisions)\n",
    "\n",
    "def accuracy_at_k(y_true, y_pred, k=3):\n",
    "    correct = 0\n",
    "    for true_items, pred_items in zip(y_true, y_pred):\n",
    "        if any(item in true_items for item in pred_items[:k]):\n",
    "            correct += 1\n",
    "    return correct / len(y_true)\n",
    "\n",
    "# Example: Using oour test cases\n",
    "# y_true must be a list of lists containing actual next items ordered\n",
    "y_true = [\n",
    "    [\"Ranch Dip - Regular\"], \n",
    "    [\"Fried Corn - Regular\"],\n",
    "    [\"20 Oz Soda\"]\n",
    "]\n",
    "\n",
    "# Example predictions from SmartCart (list of lists)\n",
    "y_pred = [\n",
    "    [\"Ranch Dip - Regular\", \"6 pc Grilled Wings Combo\", \"Regular Buffalo Fries\"],\n",
    "    [\"Ranch Dip - Regular\", \"20pc Spicy Feast Deal\", \"Fried Corn - Regular\"],\n",
    "    [\"20 Oz Soda\", \"Extra Fries\", \"Ranch Dip - Regular\"]\n",
    "]\n",
    "\n",
    "# Compute metrics\n",
    "recall = recall_at_k(y_true, y_pred, k=3)\n",
    "precision = precision_at_k(y_true, y_pred, k=3)\n",
    "accuracy = accuracy_at_k(y_true, y_pred, k=3)\n",
    "\n",
    "print(f\"Recall@3: {recall:.2f}\")\n",
    "print(f\"Precision@3: {precision:.2f}\")\n",
    "print(f\"Accuracy@3: {accuracy:.2f}\")\n"
   ]
  },
  {
   "cell_type": "code",
   "execution_count": 339,
   "id": "2487b323",
   "metadata": {},
   "outputs": [
    {
     "data": {
      "image/png": "[encoded data removed]",
      "text/plain": [
       "<Figure size 700x500 with 1 Axes>"
      ]
     },
     "metadata": {},
     "output_type": "display_data"
    }
   ],
   "source": [
    "import matplotlib.pyplot as plt\n",
    "import numpy as np\n",
    "\n",
    "# Metrics data from our slide (example values)\n",
    "models = [\"Baseline\", \"Co-occurrence\", \"SmartCart\"]\n",
    "recall_values = [0.27, 0.60, 0.67]     # Recall@3\n",
    "precision_values = [0.09, 0.20, 0.22]  # Precision@3\n",
    "\n",
    "x = np.arange(len(models))  # Label locations\n",
    "width = 0.35  # Width of the bars\n",
    "\n",
    "fig, ax = plt.subplots(figsize=(7,5))\n",
    "\n",
    "# Bars for Recall and Precision\n",
    "bars1 = ax.bar(x - width/2, recall_values, width, label='Recall@3', color='grey')\n",
    "bars2 = ax.bar(x + width/2, precision_values, width, label='Precision@3', color='green')\n",
    "\n",
    "# Labeling\n",
    "ax.set_ylabel('Score')\n",
    "ax.set_title('Model Performance Comparison')\n",
    "ax.set_xticks(x)\n",
    "ax.set_xticklabels(models)\n",
    "ax.legend()\n",
    "\n",
    "# Adding data labels on bars\n",
    "for bars in [bars1, bars2]:\n",
    "    for bar in bars:\n",
    "        height = bar.get_height()\n",
    "        ax.annotate(f'{height:.2f}',\n",
    "                    xy=(bar.get_x() + bar.get_width() / 2, height),\n",
    "                    xytext=(0, 3),\n",
    "                    textcoords=\"offset points\",\n",
    "                    ha='center', va='bottom')\n",
    "\n",
    "plt.ylim(0, 0.8)\n",
    "plt.show()\n"
   ]
  },
  {
   "cell_type": "code",
   "execution_count": 340,
   "id": "a4b3aa5b",
   "metadata": {},
   "outputs": [
    {
     "data": {
      "image/png": "[encoded data removed]",
      "text/plain": [
       "<Figure size 640x480 with 1 Axes>"
      ]
     },
     "metadata": {},
     "output_type": "display_data"
    }
   ],
   "source": [
    "import matplotlib.pyplot as plt\n",
    "\n",
    "categories = ['Main', 'Side', 'Drink', 'Dip', 'Other']\n",
    "values = [60.9, 13.0, 9.4, 7.2, 9.4]\n",
    "\n",
    "plt.pie(values, labels=categories, autopct='%1.1f%%', startangle=90)\n",
    "plt.title('Category Split of Orders')\n",
    "plt.show()"
   ]
  },
  {
   "cell_type": "code",
   "execution_count": 341,
   "id": "fced44d4",
   "metadata": {},
   "outputs": [],
   "source": [
    "# Imports of library\n",
    "import pandas as pd\n",
    "import numpy as np\n",
    "from difflib import get_close_matches\n",
    "import os, shutil, pickle"
   ]
  },
  {
   "cell_type": "code",
   "execution_count": 342,
   "id": "ad8e553d",
   "metadata": {},
   "outputs": [],
   "source": [
    "#Loading test file\n",
    "test_path = \"data/test_data_question.csv\"\n",
    "test_df = pd.read_csv(test_path)\n"
   ]
  },
  {
   "cell_type": "code",
   "execution_count": 343,
   "id": "b57adef4",
   "metadata": {},
   "outputs": [],
   "source": [
    "# Preparing canonical mapping of known items (from our training data) = # Using the all_items set we built earlier.\n",
    "try:\n",
    "    all_items = set(item for sublist in order_df['ITEM_LIST'] for item in sublist)\n",
    "except Exception:\n",
    "    all_items = set()  # fallback -> will still work but less mapping ability"
   ]
  },
  {
   "cell_type": "code",
   "execution_count": 344,
   "id": "5c92e0f9",
   "metadata": {},
   "outputs": [],
   "source": [
    "# Lowercase lookup for fuzzy matching\n",
    "known_lower_to_orig = {itm.lower(): itm for itm in all_items}\n",
    "known_items_lower = list(known_lower_to_orig.keys())"
   ]
  },
  {
   "cell_type": "code",
   "execution_count": 345,
   "id": "4ff2fe30",
   "metadata": {},
   "outputs": [],
   "source": [
    "def map_to_canonical(item_name, cutoff=0.75):\n",
    "    \"\"\"Map test item name to canonical training item if similar. Returns original if no match.\"\"\"\n",
    "    if not isinstance(item_name, str) or item_name.strip() == \"\":\n",
    "        return None\n",
    "    name = item_name.strip()\n",
    "    low = name.lower()\n",
    "    # direct exact -> fast path\n",
    "    if low in known_lower_to_orig:\n",
    "        return known_lower_to_orig[low]\n",
    "    # fuzzy match\n",
    "    matches = get_close_matches(low, known_items_lower, n=1, cutoff=cutoff)\n",
    "    if matches:\n",
    "        return known_lower_to_orig[matches[0]]\n",
    "    # no match — return original (recommender fallback will handle unseen)\n",
    "    return name"
   ]
  },
  {
   "cell_type": "code",
   "execution_count": 346,
   "id": "eabfe316",
   "metadata": {},
   "outputs": [],
   "source": [
    "# Choosing which co-occurrence matrix to use (normalized preferred) & Use normalized_co_matrix if available, else fallback to co_occurrence_dict.\n",
    "co_matrix = None\n",
    "if 'normalized_co_matrix' in globals():\n",
    "    co_matrix = normalized_co_matrix\n",
    "elif 'normalized_co_dict' in globals():\n",
    "    co_matrix = normalized_co_dict\n",
    "elif 'co_occurrence_dict' in globals():\n",
    "    co_matrix = co_occurrence_dict\n",
    "else:\n",
    "    raise RuntimeError(\"No co-occurrence matrix found in environment (create co_occurrence_dict or normalized_co_matrix).\")\n",
    "\n",
    "# Ensuring the other artifacts exist (fallback defaults)\n",
    "if 'item_type_dict' not in globals():\n",
    "    item_type_dict = {}   # we want to regenerate this properly\n",
    "if 'item_feature_dict' not in globals():\n",
    "    item_feature_dict = {}\n",
    "if 'top_items_by_type' not in globals():\n",
    "    top_items_by_type = {}  # building it from training freq counts\n",
    "if 'blacklist_items' not in globals():\n",
    "    blacklist_items = set([\n",
    "        \"Plastic Fork\",\"Plastic Knife\",\"Plastic Straw\",\"Plastic Utensils\",\n",
    "        \"Delivery Fee\",\"Unavailable Item\",\"Ketchup Pack\",\"Seasoning Pack\",\"Extra Sauce\"\n",
    "    ])"
   ]
  },
  {
   "cell_type": "code",
   "execution_count": 347,
   "id": "dbddd682",
   "metadata": {},
   "outputs": [],
   "source": [
    "# Wrapper to get top-3 recommendations safely ===\n",
    "def get_top3_for_cart(cart_items_raw, top_n=3, recommender_fn=None):\n",
    "    \"\"\"\n",
    "    cart_items_raw: list of raw item strings (from test row)\n",
    "    recommender_fn: our recommender function, e.g. smart_recommend_with_fallback\n",
    "    returns: list of top_n item names (strings)\n",
    "    \"\"\"\n",
    "    # Normalize & map items\n",
    "    cart_mapped = [map_to_canonical(i) for i in cart_items_raw if isinstance(i, str) and str(i).strip() not in [\"\", \"Missing\", \"NA\", \"nan\", \"None\"]]\n",
    "    cart_mapped = [i for i in cart_mapped if i is not None]\n",
    "    \n",
    "    # calling the recommender (prefer the smart one if available)\n",
    "    recs = []\n",
    "    try:\n",
    "        if recommender_fn is None:\n",
    "            # fallback: simple co-occurrence recommend_from_cart\n",
    "            if 'recommend_from_cart' in globals():\n",
    "                recs = recommend_from_cart(cart_mapped, co_matrix, top_n=top_n)\n",
    "            else:\n",
    "                recs = []\n",
    "        else:\n",
    "            # If our recommender returns tuples (item, score), normalize to item names\n",
    "            result = recommender_fn(\n",
    "                cart_mapped,\n",
    "                co_matrix,\n",
    "                item_type_dict,\n",
    "                top_items_by_type,\n",
    "                item_feature_dict,\n",
    "                blacklist_items,\n",
    "                top_n=top_n\n",
    "            )\n",
    "            # result may be list of (item,score) or list of items\n",
    "            if result and isinstance(result[0], tuple):\n",
    "                recs = [r[0] for r in result][:top_n]\n",
    "            else:\n",
    "                recs = list(result)[:top_n]\n",
    "    except Exception as e:\n",
    "        # in case recommender fails, fallback to global most-popular items (by type)\n",
    "        print(\"Warning: recommender failed for cart\", cart_mapped, \"->\", e)\n",
    "        recs = []\n",
    "\n",
    "    # If fewer than top_n, pad using safe popular fallbacks while avoiding duplicates\n",
    "    if len(recs) < top_n:\n",
    "        # first try top items across types\n",
    "        added = set(recs) | set(cart_mapped) | set(blacklist_items)\n",
    "        for t in ['main', 'side', 'dip', 'drink']:\n",
    "            for itm_count in top_items_by_type.get(t, []):\n",
    "                candidate = itm_count[0] if isinstance(itm_count, tuple) else itm_count\n",
    "                if candidate not in added:\n",
    "                    recs.append(candidate)\n",
    "                    added.add(candidate)\n",
    "                if len(recs) >= top_n:\n",
    "                    break\n",
    "            if len(recs) >= top_n:\n",
    "                break\n",
    "    # Finally ensure length == top_n\n",
    "    recs = recs[:top_n] + [\"\"]*(top_n - len(recs))\n",
    "    return recs\n"
   ]
  },
  {
   "cell_type": "code",
   "execution_count": 348,
   "id": "e01c1d8c",
   "metadata": {},
   "outputs": [],
   "source": [
    "# Running through test_df and fill RECOMMENDATION 1/2/3 ===\n",
    "output_cols = ['RECOMMENDATION 1','RECOMMENDATION 2','RECOMMENDATION 3']\n",
    "for c in output_cols:\n",
    "    test_df[c] = \"\"\n",
    "\n",
    "# choosing which recommender to use (prefer smart_recommend_with_fallback if available)\n",
    "recommender_fn = None\n",
    "if 'smart_recommend_with_fallback' in globals():\n",
    "    recommender_fn = smart_recommend_with_fallback\n",
    "elif 'enhanced_recommend_from_cart' in globals():\n",
    "    recommender_fn = enhanced_recommend_from_cart\n",
    "elif 'recommend_from_cart' in globals():\n",
    "    recommender_fn = None  # using default inside get_top3_for_cart\n",
    "\n",
    "# iterate rows\n",
    "for idx, row in test_df.iterrows():\n",
    "    # Building raw cart: adapt if oour test file uses different column names\n",
    "    raw_items = []\n",
    "    for col in ['item1','item2','item3']:\n",
    "        if col in row.index:\n",
    "            raw_items.append(row[col])\n",
    "    recs = get_top3_for_cart(raw_items, top_n=3, recommender_fn=recommender_fn)\n",
    "    for i in range(3):\n",
    "        test_df.at[idx, output_cols[i]] = recs[i]"
   ]
  },
  {
   "cell_type": "code",
   "execution_count": 349,
   "id": "471147ea",
   "metadata": {},
   "outputs": [
    {
     "name": "stdout",
     "output_type": "stream",
     "text": [
      "Saved recommendation sheet to: JaiMataDi_WWT_Comp2025/JaiMataDi_Recommendation_Output_Sheet.xlsx\n"
     ]
    }
   ],
   "source": [
    "#Saving to Excel/CSV with required naming ===\n",
    "team_name = \"JaiMataDi\"   # CHANGE to our team name\n",
    "output_dir = f\"{team_name}_WWT_Comp2025\"\n",
    "os.makedirs(output_dir, exist_ok=True)\n",
    "output_file = os.path.join(output_dir, f\"{team_name}_Recommendation_Output_Sheet.xlsx\")\n",
    "# Choosing columns that judge expects (example): CUSTOMER_ID, ORDER_ID, item1..item3, RECOMMENDATION 1..3\n",
    "save_cols = []\n",
    "for c in ['CUSTOMER_ID','ORDER_ID','item1','item2','item3']:\n",
    "    if c in test_df.columns:\n",
    "        save_cols.append(c)\n",
    "save_cols += output_cols\n",
    "\n",
    "test_df.to_csv(output_file.replace(\".xlsx\", \".csv\"), index=False)\n",
    "print(\"Saved recommendation sheet to:\", output_file)"
   ]
  },
  {
   "cell_type": "code",
   "execution_count": 350,
   "id": "99db8bac",
   "metadata": {},
   "outputs": [
    {
     "name": "stdout",
     "output_type": "stream",
     "text": [
      "Zipped submission ready: JaiMataDi_WWT_Comp2025.zip\n"
     ]
    }
   ],
   "source": [
    "#We want to zip everything for submission\n",
    "# Making sure we include: output excel, final.ipynb, requirements.txt, presentation.pptx\n",
    "zip_name = f\"{team_name}_WWT_Comp2025\"\n",
    "shutil.make_archive(zip_name, 'zip', root_dir='.', base_dir=output_dir)\n",
    "print(\"Zipped submission ready:\", zip_name + \".zip\")"
   ]
  },
  {
   "cell_type": "code",
   "execution_count": 351,
   "id": "723fa9db",
   "metadata": {},
   "outputs": [
    {
     "name": "stdout",
     "output_type": "stream",
     "text": [
      "No obvious ground-truth column found; skipping local evaluation.\n"
     ]
    }
   ],
   "source": [
    "#If test_df contains a ground-truth column, we have compute Recall@3 ===\n",
    "# detecting likely truth columns\n",
    "possible_truth_cols = [c for c in test_df.columns if c.lower() in ('actual','missing','true','true_item','missing_item','item4','next_item','actual_item','ground_truth')]\n",
    "if possible_truth_cols:\n",
    "    truth_col = possible_truth_cols[0]\n",
    "    print(\"Found truth column:\", truth_col, \"- computing Recall@3 locally\")\n",
    "    y_true = [[val] if not isinstance(val, (list,tuple)) else list(val) for val in test_df[truth_col].fillna(\"\").tolist()]\n",
    "    y_pred = [ [test_df.at[i, c] for c in output_cols] for i in range(len(test_df))]\n",
    "    # simple recall@3\n",
    "    hits = 0\n",
    "    for t, p in zip(y_true, y_pred):\n",
    "        if any(x in p for x in t if x):\n",
    "            hits += 1\n",
    "    recall3 = hits / len(y_true)\n",
    "    print(f\"Local Recall@3 = {recall3:.3f} (based on detected truth column)\")\n",
    "else:\n",
    "    print(\"No obvious ground-truth column found; skipping local evaluation.\")"
   ]
  },
  {
   "cell_type": "code",
   "execution_count": null,
   "id": "0691f797",
   "metadata": {},
   "outputs": [],
   "source": []
  }
 ],
 "metadata": {
  "kernelspec": {
   "display_name": "venv",
   "language": "python",
   "name": "python3"
  },
  "language_info": {
   "codemirror_mode": {
    "name": "ipython",
    "version": 3
   },
   "file_extension": ".py",
   "mimetype": "text/x-python",
   "name": "python",
   "nbconvert_exporter": "python",
   "pygments_lexer": "ipython3",
   "version": "3.9.6"
  }
 },
 "nbformat": 4,
 "nbformat_minor": 5
}
